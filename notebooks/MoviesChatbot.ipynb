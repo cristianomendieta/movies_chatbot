{
 "cells": [
  {
   "cell_type": "markdown",
   "metadata": {},
   "source": [
    "#### Movies ChatBot"
   ]
  },
  {
   "cell_type": "markdown",
   "metadata": {},
   "source": [
    "This project is the development of a chatbot for movie queries/recommendations using the TMBDB API as a base"
   ]
  },
  {
   "cell_type": "code",
   "execution_count": 1,
   "metadata": {},
   "outputs": [],
   "source": [
    "import requests\n",
    "\n",
    "from langchain.agents import initialize_agent, Tool\n",
    "from langchain.tools import StructuredTool\n",
    "from langchain.agents import AgentType\n",
    "from langchain.agents import AgentExecutor\n",
    "from langchain.memory import ConversationBufferMemory\n",
    "\n",
    "from langchain.prompts.chat import MessagesPlaceholder\n",
    "from typing import Tuple, Dict"
   ]
  },
  {
   "cell_type": "code",
   "execution_count": 2,
   "metadata": {},
   "outputs": [],
   "source": [
    "import requests\n",
    "import os\n",
    "import re\n",
    "\n",
    "class TmdbApiWrapper:\n",
    "    BASE_URL = \"https://api.themoviedb.org/3\"\n",
    "    DEFAULT_LANGUAGE = \"pt-BR\"\n",
    "    HEADERS = {\n",
    "        \"accept\": \"application/json\",\n",
    "        \"Authorization\": f\"Bearer {os.getenv('BEARER_TOKEN_TMDB')}\"\n",
    "    }\n",
    "\n",
    "    def __init__(self):\n",
    "        pass\n",
    "\n",
    "    def _make_request(self, url, additional_parameters=None):\n",
    "        params = {\"language\": self.DEFAULT_LANGUAGE}\n",
    "\n",
    "        if additional_parameters:\n",
    "            params.update(additional_parameters)\n",
    "\n",
    "        response = requests.get(url, headers=self.HEADERS, params=params)\n",
    "        # response.raise_for_status()\n",
    "        return response.json()\n",
    "        \n",
    "    # TODO: definir método de retorno do filme mais similar com a busca\n",
    "    def search_movie(self, movie_title):\n",
    "        \"\"\"Search for a movie by its title.\"\"\"\n",
    "        \n",
    "        url = f\"{self.BASE_URL}/search/movie\"\n",
    "        params = {\n",
    "            \"query\": movie_title,\n",
    "            \"page\": 1\n",
    "        }\n",
    "        response = self._make_request(url, params)\n",
    "        return response.get(\"results\")[0] if response.get(\"results\") else None\n",
    "\n",
    "    def get_casting(self, movie_title):\n",
    "        \"\"\"Get the casting of a movie by its ID.\"\"\"\n",
    "\n",
    "        movie_id = self.search_movie(movie_title).get(\"id\")\n",
    "\n",
    "        url = f\"{self.BASE_URL}/movie/{movie_id}/credits\"\n",
    "\n",
    "        response = self._make_request(url)\n",
    "        all_cast = response.get(\"cast\", [])\n",
    "        actor_cast = [\n",
    "            {\"name\": actor[\"name\"], \"character\": actor[\"character\"]}\n",
    "            for actor in all_cast\n",
    "            if actor.get(\"known_for_department\") == \"Acting\"\n",
    "        ]\n",
    "        return f\"Elenco do filme {movie_title}: {actor_cast[:10]}\"\n",
    "\n",
    "    def similar_movies(self, movie_title):\n",
    "        \"\"\"Get similar movies to a movie by its ID.\"\"\"\n",
    "\n",
    "        movie_id = self.search_movie(movie_title).get(\"id\")\n",
    "\n",
    "        url = f\"{self.BASE_URL}/movie/{movie_id}/similar\"\n",
    "        params = {\"page\": 1}\n",
    "        response = self._make_request(url, params)\n",
    "\n",
    "        similar_movies = [movie.get(\"title\") for movie in response.get(\"results\", [])]\n",
    "        return f\"Esses são alguns filmes similares a {movie_title}: {similar_movies[:10]}\"\n",
    "\n",
    "    def popular_movies(self, time_window):\n",
    "        \"\"\"Get the most popular movies of the time window(day or week)\"\"\"\n",
    "\n",
    "        time_window = re.sub(r\"\\n\", \"\", time_window)\n",
    "\n",
    "        url = f\"{self.BASE_URL}/trending/movie/{time_window}\"\n",
    "\n",
    "        response = self._make_request(url)\n",
    "        popular_movies = [movie[\"title\"] for movie in response[\"results\"]]\n",
    "        \n",
    "        return f\"Os filmes populares no período escolhido são: {popular_movies}\""
   ]
  },
  {
   "cell_type": "code",
   "execution_count": 3,
   "metadata": {},
   "outputs": [],
   "source": [
    "from langchain_groq import ChatGroq\n",
    "from langchain_core.prompts import ChatPromptTemplate\n",
    "import os\n",
    "from dotenv import load_dotenv\n",
    "\n",
    "load_dotenv()\n",
    "\n",
    "class LLMConfig():\n",
    "    \"\"\"\n",
    "    Contains the configuration of the LLM.\n",
    "    \"\"\"\n",
    "    model = \"llama3-8b-8192\"\n",
    "    groq_api_key = os.getenv(\"GROQ_API_KEY\")\n",
    "    llm = ChatGroq(temperature=0, groq_api_key=groq_api_key, model_name=model)"
   ]
  },
  {
   "cell_type": "code",
   "execution_count": 4,
   "metadata": {},
   "outputs": [],
   "source": [
    "llm_config = LLMConfig()"
   ]
  },
  {
   "cell_type": "code",
   "execution_count": 5,
   "metadata": {},
   "outputs": [],
   "source": [
    "from langchain_core.prompts import ChatPromptTemplate, MessagesPlaceholder\n",
    "\n",
    "# from langchain.globals import set_debug\n",
    "\n",
    "# set_debug(True)\n",
    "\n",
    "def setup_agent() -> AgentExecutor:\n",
    "    \"\"\"\n",
    "    Sets up the tools for a function based chain.\n",
    "    \"\"\"\n",
    "    cfg = LLMConfig()\n",
    "    imdb = TmdbApiWrapper()\n",
    "\n",
    "    tools = [\n",
    "        Tool(\n",
    "            name = \"Pesquisa de filmes\",\n",
    "            func=imdb.search_movie,\n",
    "            description=\"Útil para buscar informações sobre filmes como sinopse, média de avaliações, data de lançamento, entre outros, incuindo seu ID na base do IMDB que poderá ser usado em outras tools.\"\n",
    "        ),\n",
    "        Tool(\n",
    "            name = \"Elenco do filme\",\n",
    "            func=imdb.get_casting,\n",
    "            description=\"Retorna o elenco de um filme a partir de seu ID.\"\n",
    "        ),\n",
    "        Tool(\n",
    "            name = \"Filmes similares\",\n",
    "            func=imdb.similar_movies,\n",
    "            description=\"Retorna filmes similares a partir do ID de um filme.\"\n",
    "        ),\n",
    "        Tool(\n",
    "            name = \"Filmes populares\",\n",
    "            func=imdb.popular_movies,\n",
    "            description=\"Retorna os filmes mais populares de uma janela de tempo(use day ou week).\"\n",
    "        ),\n",
    "    ]\n",
    "\n",
    "    memory = ConversationBufferMemory(memory_key=\"chat_history\", return_messages=True, k=3)\n",
    "\n",
    "    return initialize_agent(\n",
    "        tools, \n",
    "        cfg.llm, \n",
    "        agent=AgentType.CONVERSATIONAL_REACT_DESCRIPTION, \n",
    "        verbose=True,\n",
    "        max_iterations=3,\n",
    "        memory=memory,\n",
    "        \n",
    "    )"
   ]
  },
  {
   "cell_type": "code",
   "execution_count": 6,
   "metadata": {},
   "outputs": [
    {
     "name": "stderr",
     "output_type": "stream",
     "text": [
      "/home/cristianomendieta/.cache/pypoetry/virtualenvs/movies-chatbot-cyk_sWxh-py3.10/lib/python3.10/site-packages/langchain_core/_api/deprecation.py:119: LangChainDeprecationWarning: The function `initialize_agent` was deprecated in LangChain 0.1.0 and will be removed in 0.3.0. Use Use new agent constructor methods like create_react_agent, create_json_agent, create_structured_chat_agent, etc. instead.\n",
      "  warn_deprecated(\n"
     ]
    }
   ],
   "source": [
    "agent_chain = setup_agent()"
   ]
  },
  {
   "cell_type": "code",
   "execution_count": 7,
   "metadata": {},
   "outputs": [],
   "source": [
    "PROMPT_MESSAGE = \"\"\"\n",
    "Você é um assistente que concede informações relevantes sobre filmes que o usário queira saber.\\n\n",
    "Você não possui conhecimento prévio sobre filmes e por isso, DEVE utilizar as tools a seguir e responder o usário com base nessas informações.\\n\n",
    "Responda o usuário em português.\\n\\n\n",
    "\n",
    "TOOLS:\\n\n",
    "------\\n\\n\n",
    "\n",
    "> Pesquisa de filmes: Útil para buscar informações sobre filmes como sinopse, média de avaliações no TMDB, data de lançamento e ID do filme na base do TMDB, entre outros.\\n\n",
    "> Elenco do filme: Retorna o elenco de um filme a partir de seu nome.\\n\n",
    "> Filmes similares: Retorna filmes similares a partir de seu nome.\\n\n",
    "> Filmes populares: Retorna os filmes mais populares de uma janela de tempo(use day ou week).\\n\\n\n",
    "\n",
    "Para usar uma tool, por favor siga o seguinte formato:\\n\\n\n",
    "\n",
    "To use a tool, please use the following format:\\n\n",
    "\n",
    "```\\n\n",
    "Thought: Do I need to use a tool? Yes\\n\n",
    "Action: the action to take, should be one of [Pesquisa de filmes, Elenco do filme, Filmes similares, Filmes populares]\\n\n",
    "Action Input: the input to the action\\n\n",
    "Observation: the result of the action\\n\n",
    "````\\n\\n\n",
    "\n",
    "Quando você tiver uma resposta para dizer ao Humano, ou se não precisar usar uma tool, você DEVE usar o formato:\\n\\n\n",
    "\n",
    "```\n",
    "Thought: Do I need to use a tool? No\\n\n",
    "AI: [your response here]\\n\\n\n",
    "```\\n\n",
    "\n",
    "Begin!\\n\n",
    "\n",
    "Previous conversation history:\\n\n",
    "{chat_history}\\n\n",
    "\n",
    "New input: {input}\\n\n",
    "{agent_scratchpad}\n",
    "\"\"\""
   ]
  },
  {
   "cell_type": "code",
   "execution_count": 8,
   "metadata": {},
   "outputs": [],
   "source": [
    "agent_chain.agent.llm_chain.prompt.template = PROMPT_MESSAGE"
   ]
  },
  {
   "cell_type": "code",
   "execution_count": 9,
   "metadata": {},
   "outputs": [
    {
     "name": "stderr",
     "output_type": "stream",
     "text": [
      "/home/cristianomendieta/.cache/pypoetry/virtualenvs/movies-chatbot-cyk_sWxh-py3.10/lib/python3.10/site-packages/langchain_core/_api/deprecation.py:119: LangChainDeprecationWarning: The method `Chain.run` was deprecated in langchain 0.1.0 and will be removed in 0.3.0. Use invoke instead.\n",
      "  warn_deprecated(\n"
     ]
    },
    {
     "name": "stdout",
     "output_type": "stream",
     "text": [
      "\n",
      "\n",
      "\u001b[1m> Entering new AgentExecutor chain...\u001b[0m\n",
      "\u001b[32;1m\u001b[1;3mThought: Do I need to use a tool? Yes\n",
      "\n",
      "Action: Pesquisa de filmes\n",
      "\n",
      "Action Input: The Matrix\n",
      "\u001b[0m\n",
      "Observation: \u001b[36;1m\u001b[1;3m{'adult': False, 'backdrop_path': '/icmmSD4vTTDKOq2vvdulafOGw93.jpg', 'genre_ids': [28, 878], 'id': 603, 'original_language': 'en', 'original_title': 'The Matrix', 'overview': 'Em um futuro próximo, Thomas Anderson (Keanu Reeves), um jovem programador de computador que mora em um cubículo escuro, é atormentado por estranhos pesadelos nos quais encontra-se conectado por cabos e contra sua vontade, em um imenso sistema de computadores do futuro. Em todas essas ocasiões, acorda gritando no exato momento em que os eletrodos estão para penetrar em seu cérebro. À medida que o sonho se repete, Anderson começa a ter dúvidas sobre a realidade. Por meio do encontro com os misteriosos Morpheus (Laurence Fishburne) e Trinity (Carrie-Anne Moss), Thomas descobre que é, assim como outras pessoas, vítima do Matrix, um sistema inteligente e artificial que manipula a mente das pessoas, criando a ilusão de um mundo real enquanto usa os cérebros e corpos dos indivíduos para produzir energia. Morpheus, entretanto, está convencido de que Thomas é Neo, o aguardado messias capaz de enfrentar o Matrix e conduzir as pessoas de volta à realidade e à liberdade.', 'popularity': 445.617, 'poster_path': '/lDqMDI3xpbB9UQRyeXfei0MXhqb.jpg', 'release_date': '1999-03-31', 'title': 'Matrix', 'video': False, 'vote_average': 8.215, 'vote_count': 24873}\u001b[0m\n",
      "Thought:\u001b[32;1m\u001b[1;3mThought: Do I need to use a tool? No\n",
      "\n",
      "AI: O filme The Matrix foi lançado em 31 de março de 1999.\u001b[0m\n",
      "\n",
      "\u001b[1m> Finished chain.\u001b[0m\n"
     ]
    },
    {
     "data": {
      "text/plain": [
       "'O filme The Matrix foi lançado em 31 de março de 1999.'"
      ]
     },
     "execution_count": 9,
     "metadata": {},
     "output_type": "execute_result"
    }
   ],
   "source": [
    "agent_chain.run(\"Qual a data de lançamento do filme The Matrix?\")"
   ]
  },
  {
   "cell_type": "code",
   "execution_count": 10,
   "metadata": {},
   "outputs": [
    {
     "name": "stdout",
     "output_type": "stream",
     "text": [
      "\n",
      "\n",
      "\u001b[1m> Entering new AgentExecutor chain...\u001b[0m\n",
      "\u001b[32;1m\u001b[1;3m```\n",
      "Thought: Do I need to use a tool? Yes\n",
      "\n",
      "Action: Elenco do filme\n",
      "\n",
      "Action Input: The Matrix\n",
      "\u001b[0m\n",
      "Observation: \u001b[33;1m\u001b[1;3mElenco do filme The Matrix\n",
      ": [{'name': 'Keanu Reeves', 'character': 'Neo'}, {'name': 'Laurence Fishburne', 'character': 'Morpheus'}, {'name': 'Carrie-Anne Moss', 'character': 'Trinity'}, {'name': 'Hugo Weaving', 'character': 'Agent Smith'}, {'name': 'Gloria Foster', 'character': 'Oracle'}, {'name': 'Joe Pantoliano', 'character': 'Cypher'}, {'name': 'Marcus Chong', 'character': 'Tank'}, {'name': 'Julian Arahanga', 'character': 'Apoc'}, {'name': 'Matt Doran', 'character': 'Mouse'}, {'name': 'Belinda McClory', 'character': 'Switch'}]\u001b[0m\n",
      "Thought:\u001b[32;1m\u001b[1;3m```\n",
      "Thought: Do I need to use a tool? No\n",
      "\n",
      "AI: O elenco do filme The Matrix é composto por Keanu Reeves, Laurence Fishburne, Carrie-Anne Moss, Hugo Weaving, Gloria Foster, Joe Pantoliano, Marcus Chong, Julian Arahanga, Matt Doran e Belinda McClory, que interpretam respectivamente os personagens Neo, Morpheus, Trinity, Agent Smith, Oracle, Cypher, Tank, Apoc e Mouse.\u001b[0m\n",
      "\n",
      "\u001b[1m> Finished chain.\u001b[0m\n"
     ]
    },
    {
     "data": {
      "text/plain": [
       "'O elenco do filme The Matrix é composto por Keanu Reeves, Laurence Fishburne, Carrie-Anne Moss, Hugo Weaving, Gloria Foster, Joe Pantoliano, Marcus Chong, Julian Arahanga, Matt Doran e Belinda McClory, que interpretam respectivamente os personagens Neo, Morpheus, Trinity, Agent Smith, Oracle, Cypher, Tank, Apoc e Mouse.'"
      ]
     },
     "execution_count": 10,
     "metadata": {},
     "output_type": "execute_result"
    }
   ],
   "source": [
    "agent_chain.run(\"Qual o elenco do filme The Matrix?\")"
   ]
  },
  {
   "cell_type": "code",
   "execution_count": 11,
   "metadata": {},
   "outputs": [
    {
     "name": "stdout",
     "output_type": "stream",
     "text": [
      "\n",
      "\n",
      "\u001b[1m> Entering new AgentExecutor chain...\u001b[0m\n",
      "\u001b[32;1m\u001b[1;3m```\n",
      "Thought: Do I need to use a tool? Yes\n",
      "\n",
      "Action: Elenco do filme\n",
      "\n",
      "Action Input: Star Wars\n",
      "\u001b[0m\n",
      "Observation: \u001b[33;1m\u001b[1;3mElenco do filme Star Wars\n",
      ": [{'name': 'Mark Hamill', 'character': 'Luke Skywalker / Dobbu Scay (voice)'}, {'name': 'Carrie Fisher', 'character': 'General Leia Organa'}, {'name': 'Adam Driver', 'character': 'Kylo Ren / Ben Solo'}, {'name': 'Daisy Ridley', 'character': 'Rey'}, {'name': 'John Boyega', 'character': 'Finn'}, {'name': 'Oscar Isaac', 'character': 'Poe Dameron'}, {'name': 'Andy Serkis', 'character': 'Supreme Leader Snoke'}, {'name': \"Lupita Nyong'o\", 'character': 'Maz Kanata'}, {'name': 'Domhnall Gleeson', 'character': 'General Hux'}, {'name': 'Anthony Daniels', 'character': 'C-3PO'}]\u001b[0m\n",
      "Thought:\u001b[32;1m\u001b[1;3m```\n",
      "Thought: Do I need to use a tool? No\n",
      "\n",
      "AI: O elenco do filme Star Wars é composto por Mark Hamill, Carrie Fisher, Adam Driver, Daisy Ridley, John Boyega, Oscar Isaac, Andy Serkis, Lupita Nyong'o, Domhnall Gleeson e Anthony Daniels, que interpretam respectivamente os personagens Luke Skywalker / Dobbu Scay (voice), General Leia Organa, Kylo Ren / Ben Solo, Rey, Finn, Poe Dameron, Supreme Leader Snoke, Maz Kanata, General Hux e C-3PO.\n",
      "```\u001b[0m\n",
      "\n",
      "\u001b[1m> Finished chain.\u001b[0m\n"
     ]
    },
    {
     "data": {
      "text/plain": [
       "\"O elenco do filme Star Wars é composto por Mark Hamill, Carrie Fisher, Adam Driver, Daisy Ridley, John Boyega, Oscar Isaac, Andy Serkis, Lupita Nyong'o, Domhnall Gleeson e Anthony Daniels, que interpretam respectivamente os personagens Luke Skywalker / Dobbu Scay (voice), General Leia Organa, Kylo Ren / Ben Solo, Rey, Finn, Poe Dameron, Supreme Leader Snoke, Maz Kanata, General Hux e C-3PO.\\n```\""
      ]
     },
     "execution_count": 11,
     "metadata": {},
     "output_type": "execute_result"
    }
   ],
   "source": [
    "agent_chain.run(\"Qual o elenco do filme Star Wars?\")"
   ]
  },
  {
   "cell_type": "code",
   "execution_count": 12,
   "metadata": {},
   "outputs": [
    {
     "name": "stdout",
     "output_type": "stream",
     "text": [
      "\n",
      "\n",
      "\u001b[1m> Entering new AgentExecutor chain...\u001b[0m\n",
      "\u001b[32;1m\u001b[1;3m```\n",
      "Thought: Do I need to use a tool? Yes\n",
      "\n",
      "Action: Filmes populares\n",
      "\n",
      "Action Input: week\n",
      "\u001b[0m\n",
      "Observation: \u001b[36;1m\u001b[1;3mOs filmes populares no período escolhido são: ['Godzilla e Kong: O Novo Império', 'Ghostbusters: Apocalipse de Gelo', 'Duna: Parte Dois', 'Planeta dos Macacos: O Reinado', 'Godzilla Minus One', 'Abigail', 'The Ministry of Ungentlemanly Warfare', 'Uma Ideia de Você', 'Fúria Primitiva', 'Duna', 'Rivais', 'Furiosa: Uma Saga Mad Max', 'Rebel Moon - Parte 2: A Marcadora de Cicatrizes', 'Kung Fu Panda 4', 'Garfield - Fora de Casa', 'A Batalha do Biscoito Pop-Tart', 'Guerra Civil', 'Amigos Imaginários', 'Exhuma', 'A Mãe da Noiva']\u001b[0m\n",
      "Thought:\u001b[32;1m\u001b[1;3m```\n",
      "Thought: Do I need to use a tool? Yes\n",
      "\n",
      "Action: Filmes populares\n",
      "\n",
      "Action Input: week\n",
      "\u001b[0m\n",
      "Observation: \u001b[36;1m\u001b[1;3mOs filmes populares no período escolhido são: ['Godzilla e Kong: O Novo Império', 'Ghostbusters: Apocalipse de Gelo', 'Duna: Parte Dois', 'Planeta dos Macacos: O Reinado', 'Godzilla Minus One', 'Abigail', 'The Ministry of Ungentlemanly Warfare', 'Uma Ideia de Você', 'Fúria Primitiva', 'Duna', 'Rivais', 'Furiosa: Uma Saga Mad Max', 'Rebel Moon - Parte 2: A Marcadora de Cicatrizes', 'Kung Fu Panda 4', 'Garfield - Fora de Casa', 'A Batalha do Biscoito Pop-Tart', 'Guerra Civil', 'Amigos Imaginários', 'Exhuma', 'A Mãe da Noiva']\u001b[0m\n",
      "Thought:\u001b[32;1m\u001b[1;3mThought: Do I need to use a tool? Yes\n",
      "\n",
      "Action: Filmes populares\n",
      "\n",
      "Action Input: week\n",
      "\u001b[0m\n",
      "Observation: \u001b[36;1m\u001b[1;3mOs filmes populares no período escolhido são: ['Godzilla e Kong: O Novo Império', 'Ghostbusters: Apocalipse de Gelo', 'Duna: Parte Dois', 'Planeta dos Macacos: O Reinado', 'Godzilla Minus One', 'Abigail', 'The Ministry of Ungentlemanly Warfare', 'Uma Ideia de Você', 'Fúria Primitiva', 'Duna', 'Rivais', 'Furiosa: Uma Saga Mad Max', 'Rebel Moon - Parte 2: A Marcadora de Cicatrizes', 'Kung Fu Panda 4', 'Garfield - Fora de Casa', 'A Batalha do Biscoito Pop-Tart', 'Guerra Civil', 'Amigos Imaginários', 'Exhuma', 'A Mãe da Noiva']\u001b[0m\n",
      "Thought:\u001b[32;1m\u001b[1;3mThought: Do I need to use a tool? Yes\n",
      "\n",
      "Action: Filmes populares\n",
      "\n",
      "Action Input: week\n",
      "\u001b[0m\n",
      "Observation: \u001b[36;1m\u001b[1;3mOs filmes populares no período escolhido são: ['Godzilla e Kong: O Novo Império', 'Ghostbusters: Apocalipse de Gelo', 'Duna: Parte Dois', 'Planeta dos Macacos: O Reinado', 'Godzilla Minus One', 'Abigail', 'The Ministry of Ungentlemanly Warfare', 'Uma Ideia de Você', 'Fúria Primitiva', 'Duna', 'Rivais', 'Furiosa: Uma Saga Mad Max', 'Rebel Moon - Parte 2: A Marcadora de Cicatrizes', 'Kung Fu Panda 4', 'Garfield - Fora de Casa', 'A Batalha do Biscoito Pop-Tart', 'Guerra Civil', 'Amigos Imaginários', 'Exhuma', 'A Mãe da Noiva']\u001b[0m\n",
      "Thought:\u001b[32;1m\u001b[1;3m```\n",
      "Thought: Do I need to use a tool? Yes\n",
      "\n",
      "Action: Filmes populares\n",
      "\n",
      "Action Input: week\n",
      "\u001b[0m\n",
      "Observation: \u001b[36;1m\u001b[1;3mOs filmes populares no período escolhido são: ['Godzilla e Kong: O Novo Império', 'Ghostbusters: Apocalipse de Gelo', 'Duna: Parte Dois', 'Planeta dos Macacos: O Reinado', 'Godzilla Minus One', 'Abigail', 'The Ministry of Ungentlemanly Warfare', 'Uma Ideia de Você', 'Fúria Primitiva', 'Duna', 'Rivais', 'Furiosa: Uma Saga Mad Max', 'Rebel Moon - Parte 2: A Marcadora de Cicatrizes', 'Kung Fu Panda 4', 'Garfield - Fora de Casa', 'A Batalha do Biscoito Pop-Tart', 'Guerra Civil', 'Amigos Imaginários', 'Exhuma', 'A Mãe da Noiva']\u001b[0m\n",
      "Thought:\u001b[32;1m\u001b[1;3m\u001b[0m\n",
      "\n",
      "\u001b[1m> Finished chain.\u001b[0m\n"
     ]
    },
    {
     "data": {
      "text/plain": [
       "'Agent stopped due to iteration limit or time limit.'"
      ]
     },
     "execution_count": 12,
     "metadata": {},
     "output_type": "execute_result"
    }
   ],
   "source": [
    "agent_chain.run(\"Quais são os filmes populares dessa semana?\")"
   ]
  },
  {
   "cell_type": "code",
   "execution_count": 13,
   "metadata": {},
   "outputs": [
    {
     "name": "stdout",
     "output_type": "stream",
     "text": [
      "\n",
      "\n",
      "\u001b[1m> Entering new AgentExecutor chain...\u001b[0m\n",
      "\u001b[32;1m\u001b[1;3m```\n",
      "Thought: Do I need to use a tool? Yes\n",
      "\n",
      "Action: Pesquisa de filmes\n",
      "\n",
      "Action Input: The Matrix\n",
      "\u001b[0m\n",
      "Observation: \u001b[36;1m\u001b[1;3m{'adult': False, 'backdrop_path': '/icmmSD4vTTDKOq2vvdulafOGw93.jpg', 'genre_ids': [28, 878], 'id': 603, 'original_language': 'en', 'original_title': 'The Matrix', 'overview': 'Em um futuro próximo, Thomas Anderson (Keanu Reeves), um jovem programador de computador que mora em um cubículo escuro, é atormentado por estranhos pesadelos nos quais encontra-se conectado por cabos e contra sua vontade, em um imenso sistema de computadores do futuro. Em todas essas ocasiões, acorda gritando no exato momento em que os eletrodos estão para penetrar em seu cérebro. À medida que o sonho se repete, Anderson começa a ter dúvidas sobre a realidade. Por meio do encontro com os misteriosos Morpheus (Laurence Fishburne) e Trinity (Carrie-Anne Moss), Thomas descobre que é, assim como outras pessoas, vítima do Matrix, um sistema inteligente e artificial que manipula a mente das pessoas, criando a ilusão de um mundo real enquanto usa os cérebros e corpos dos indivíduos para produzir energia. Morpheus, entretanto, está convencido de que Thomas é Neo, o aguardado messias capaz de enfrentar o Matrix e conduzir as pessoas de volta à realidade e à liberdade.', 'popularity': 445.617, 'poster_path': '/lDqMDI3xpbB9UQRyeXfei0MXhqb.jpg', 'release_date': '1999-03-31', 'title': 'Matrix', 'video': False, 'vote_average': 8.215, 'vote_count': 24873}\u001b[0m\n",
      "Thought:\u001b[32;1m\u001b[1;3m```\n",
      "Thought: Do I need to use a tool? No\n",
      "\n",
      "AI: O filme The Matrix foi lançado em 31 de março de 1999. O elenco do filme The Matrix é composto por Keanu Reeves, Laurence Fishburne, Carrie-Anne Moss, Hugo Weaving, Gloria Foster, Joe Pantoliano, Marcus Chong, Julian Arahanga, Matt Doran e Belinda McClory, que interpretam respectivamente os personagens Neo, Morpheus, Trinity, Agent Smith, Oracle, Cypher, Tank, Apoc e Mouse.\u001b[0m\n",
      "\n",
      "\u001b[1m> Finished chain.\u001b[0m\n"
     ]
    },
    {
     "data": {
      "text/plain": [
       "'O filme The Matrix foi lançado em 31 de março de 1999. O elenco do filme The Matrix é composto por Keanu Reeves, Laurence Fishburne, Carrie-Anne Moss, Hugo Weaving, Gloria Foster, Joe Pantoliano, Marcus Chong, Julian Arahanga, Matt Doran e Belinda McClory, que interpretam respectivamente os personagens Neo, Morpheus, Trinity, Agent Smith, Oracle, Cypher, Tank, Apoc e Mouse.'"
      ]
     },
     "execution_count": 13,
     "metadata": {},
     "output_type": "execute_result"
    }
   ],
   "source": [
    "agent_chain.run(\"Me fale sobre o filme The Matrix\")"
   ]
  },
  {
   "cell_type": "code",
   "execution_count": 15,
   "metadata": {},
   "outputs": [
    {
     "name": "stdout",
     "output_type": "stream",
     "text": [
      "\n",
      "\n",
      "\u001b[1m> Entering new AgentExecutor chain...\u001b[0m\n",
      "\u001b[32;1m\u001b[1;3mThought: Do I need to use a tool? Yes\n",
      "\n",
      "Action: Pesquisa de filmes\n",
      "\n",
      "Action Input: The Matrix\n",
      "\u001b[0m\n",
      "Observation: \u001b[36;1m\u001b[1;3m{'adult': False, 'backdrop_path': '/icmmSD4vTTDKOq2vvdulafOGw93.jpg', 'genre_ids': [28, 878], 'id': 603, 'original_language': 'en', 'original_title': 'The Matrix', 'overview': 'Em um futuro próximo, Thomas Anderson (Keanu Reeves), um jovem programador de computador que mora em um cubículo escuro, é atormentado por estranhos pesadelos nos quais encontra-se conectado por cabos e contra sua vontade, em um imenso sistema de computadores do futuro. Em todas essas ocasiões, acorda gritando no exato momento em que os eletrodos estão para penetrar em seu cérebro. À medida que o sonho se repete, Anderson começa a ter dúvidas sobre a realidade. Por meio do encontro com os misteriosos Morpheus (Laurence Fishburne) e Trinity (Carrie-Anne Moss), Thomas descobre que é, assim como outras pessoas, vítima do Matrix, um sistema inteligente e artificial que manipula a mente das pessoas, criando a ilusão de um mundo real enquanto usa os cérebros e corpos dos indivíduos para produzir energia. Morpheus, entretanto, está convencido de que Thomas é Neo, o aguardado messias capaz de enfrentar o Matrix e conduzir as pessoas de volta à realidade e à liberdade.', 'popularity': 445.617, 'poster_path': '/lDqMDI3xpbB9UQRyeXfei0MXhqb.jpg', 'release_date': '1999-03-31', 'title': 'Matrix', 'video': False, 'vote_average': 8.215, 'vote_count': 24873}\u001b[0m\n",
      "Thought:\u001b[32;1m\u001b[1;3mThought: Do I need to use a tool? No\n",
      "\n",
      "AI: A sinopse do filme The Matrix é a seguinte: Em um futuro próximo, Thomas Anderson (Keanu Reeves), um jovem programador de computador que mora em um cubículo escuro, é atormentado por estranhos pesadelos nos quais encontra-se conectado por cabos e contra sua vontade, em um imenso sistema de computadores do futuro. Em todas essas ocasiões, acorda gritando no exato momento em que os eletrodos estão para penetrar em seu cérebro. À medida que o sonho se repete, Anderson começa a ter dúvidas sobre a realidade. Por meio do encontro com os misteriosos Morpheus (Laurence Fishburne) e Trinity (Carrie-Anne Moss), Thomas descobre que é, assim como outras pessoas, vítima do Matrix, um sistema inteligente e artificial que manipula a mente das pessoas, criando a ilusão de um mundo real enquanto usa os cérebros e corpos dos indivíduos para produzir energia. Morpheus, entretanto, está convencido de que Thomas é Neo, o aguardado messias capaz de enfrentar o Matrix e conduzir as pessoas de volta à realidade e à liberdade.\u001b[0m\n",
      "\n",
      "\u001b[1m> Finished chain.\u001b[0m\n"
     ]
    },
    {
     "data": {
      "text/plain": [
       "'A sinopse do filme The Matrix é a seguinte: Em um futuro próximo, Thomas Anderson (Keanu Reeves), um jovem programador de computador que mora em um cubículo escuro, é atormentado por estranhos pesadelos nos quais encontra-se conectado por cabos e contra sua vontade, em um imenso sistema de computadores do futuro. Em todas essas ocasiões, acorda gritando no exato momento em que os eletrodos estão para penetrar em seu cérebro. À medida que o sonho se repete, Anderson começa a ter dúvidas sobre a realidade. Por meio do encontro com os misteriosos Morpheus (Laurence Fishburne) e Trinity (Carrie-Anne Moss), Thomas descobre que é, assim como outras pessoas, vítima do Matrix, um sistema inteligente e artificial que manipula a mente das pessoas, criando a ilusão de um mundo real enquanto usa os cérebros e corpos dos indivíduos para produzir energia. Morpheus, entretanto, está convencido de que Thomas é Neo, o aguardado messias capaz de enfrentar o Matrix e conduzir as pessoas de volta à realidade e à liberdade.'"
      ]
     },
     "execution_count": 15,
     "metadata": {},
     "output_type": "execute_result"
    }
   ],
   "source": [
    "agent_chain.run(\"Me dê a sinopse do filme The Matrix\")"
   ]
  }
 ],
 "metadata": {
  "kernelspec": {
   "display_name": "movies-chatbot-cyk_sWxh-py3.10",
   "language": "python",
   "name": "python3"
  },
  "language_info": {
   "codemirror_mode": {
    "name": "ipython",
    "version": 3
   },
   "file_extension": ".py",
   "mimetype": "text/x-python",
   "name": "python",
   "nbconvert_exporter": "python",
   "pygments_lexer": "ipython3",
   "version": "3.10.12"
  }
 },
 "nbformat": 4,
 "nbformat_minor": 2
}
