{
 "cells": [
  {
   "cell_type": "markdown",
   "metadata": {},
   "source": [
    "#### Movies ChatBot"
   ]
  },
  {
   "cell_type": "markdown",
   "metadata": {},
   "source": [
    "This project is the development of a chatbot for movie queries/recommendations using the TMBDB API as a base"
   ]
  },
  {
   "cell_type": "code",
   "execution_count": 1,
   "metadata": {},
   "outputs": [],
   "source": [
    "import requests\n",
    "\n",
    "from langchain.agents import initialize_agent, Tool\n",
    "from langchain.tools import StructuredTool\n",
    "from langchain.agents import AgentType\n",
    "from langchain.agents import AgentExecutor\n",
    "from langchain.memory import ConversationBufferMemory\n",
    "\n",
    "from langchain.prompts.chat import MessagesPlaceholder\n",
    "from typing import Tuple, Dict"
   ]
  },
  {
   "cell_type": "code",
   "execution_count": 2,
   "metadata": {},
   "outputs": [],
   "source": [
    "import requests\n",
    "import os\n",
    "import re\n",
    "\n",
    "class TmdbApiWrapper:\n",
    "    BASE_URL = \"https://api.themoviedb.org/3\"\n",
    "    DEFAULT_LANGUAGE = \"pt-BR\"\n",
    "    HEADERS = {\n",
    "        \"accept\": \"application/json\",\n",
    "        \"Authorization\": f\"Bearer {os.getenv('BEARER_TOKEN_TMDB')}\"\n",
    "    }\n",
    "\n",
    "    def __init__(self):\n",
    "        pass\n",
    "\n",
    "    def _make_request(self, url, additional_parameters=None):\n",
    "        params = {\"language\": self.DEFAULT_LANGUAGE}\n",
    "\n",
    "        if additional_parameters:\n",
    "            params.update(additional_parameters)\n",
    "\n",
    "        response = requests.get(url, headers=self.HEADERS, params=params)\n",
    "        response.raise_for_status()\n",
    "        return response.json()\n",
    "        \n",
    "    # TODO: definir método de retorno do filme mais similar com a busca\n",
    "    def search_movie(self, movie_title):\n",
    "        \"\"\"Search for a movie by its title.\"\"\"\n",
    "        \n",
    "        url = f\"{self.BASE_URL}/search/movie\"\n",
    "        params = {\n",
    "            \"query\": movie_title,\n",
    "            \"page\": 1\n",
    "        }\n",
    "        response = self._make_request(url, params)\n",
    "        return response.get(\"results\")[0] if response.get(\"results\") else None\n",
    "\n",
    "    def get_casting(self, movie_title):\n",
    "        \"\"\"Get the casting of a movie by its ID.\"\"\"\n",
    "\n",
    "        movie_id = self.search_movie(movie_title).get(\"id\")\n",
    "\n",
    "        url = f\"{self.BASE_URL}/movie/{movie_id}/credits\"\n",
    "\n",
    "        response = self._make_request(url)\n",
    "        all_cast = response.get(\"cast\", [])\n",
    "        actor_cast = [\n",
    "            {\"name\": actor[\"name\"], \"character\": actor[\"character\"]}\n",
    "            for actor in all_cast\n",
    "            if actor.get(\"known_for_department\") == \"Acting\"\n",
    "        ]\n",
    "        return f\"Elenco do filme {movie_title}: {actor_cast[:10]}\"\n",
    "\n",
    "    def similar_movies(self, movie_title):\n",
    "        \"\"\"Get similar movies to a movie by its ID.\"\"\"\n",
    "\n",
    "        movie_id = self.search_movie(movie_title).get(\"id\")\n",
    "\n",
    "        url = f\"{self.BASE_URL}/movie/{movie_id}/similar\"\n",
    "        params = {\"page\": 1}\n",
    "        response = self._make_request(url, params)\n",
    "\n",
    "        similar_movies = [movie.get(\"title\") for movie in response.get(\"results\", [])]\n",
    "        return f\"Esses são alguns filmes similares a {movie_title}: {similar_movies[:10]}\"\n",
    "\n",
    "    def popular_movies(self, time_window):\n",
    "        \"\"\"Get the most popular movies of the time window(day or week)\"\"\"\n",
    "\n",
    "        time_window = re.sub(r\"\\n\", \"\", time_window)\n",
    "\n",
    "        url = f\"{self.BASE_URL}/trending/movie/{time_window}\"\n",
    "\n",
    "        response = self._make_request(url)\n",
    "        popular_movies = [movie[\"title\"] for movie in response[\"results\"]]\n",
    "        \n",
    "        return f\"Os filmes populares no período escolhido são: {popular_movies}\""
   ]
  },
  {
   "cell_type": "code",
   "execution_count": 17,
   "metadata": {},
   "outputs": [],
   "source": [
    "from langchain_groq import ChatGroq\n",
    "from langchain_core.prompts import ChatPromptTemplate\n",
    "import os\n",
    "from dotenv import load_dotenv\n",
    "\n",
    "load_dotenv()\n",
    "\n",
    "class LLMConfig():\n",
    "    \"\"\"\n",
    "    Contains the configuration of the LLM.\n",
    "    \"\"\"\n",
    "    model = \"mixtral-8x7b-32768\"\n",
    "    groq_api_key = os.getenv(\"GROQ_API_KEY\")\n",
    "    llm = ChatGroq(temperature=0, groq_api_key=groq_api_key, model_name=model)"
   ]
  },
  {
   "cell_type": "code",
   "execution_count": 18,
   "metadata": {},
   "outputs": [],
   "source": [
    "llm_config = LLMConfig()"
   ]
  },
  {
   "cell_type": "code",
   "execution_count": 19,
   "metadata": {},
   "outputs": [],
   "source": [
    "from langchain_core.prompts import ChatPromptTemplate, MessagesPlaceholder\n",
    "\n",
    "# from langchain.globals import set_debug\n",
    "\n",
    "# set_debug(True)\n",
    "\n",
    "def setup_agent() -> AgentExecutor:\n",
    "    \"\"\"\n",
    "    Sets up the tools for a function based chain.\n",
    "    \"\"\"\n",
    "    cfg = LLMConfig()\n",
    "    imdb = TmdbApiWrapper()\n",
    "\n",
    "    tools = [\n",
    "        Tool(\n",
    "            name = \"Pesquisa de filmes\",\n",
    "            func=imdb.search_movie,\n",
    "            description=\"Útil para buscar informações sobre filmes como sinopse, média de avaliações, data de lançamento, entre outros, incuindo seu ID na base do IMDB que poderá ser usado em outras tools.\"\n",
    "        ),\n",
    "        Tool(\n",
    "            name = \"Elenco do filme\",\n",
    "            func=imdb.get_casting,\n",
    "            description=\"Retorna o elenco de um filme a partir de seu ID.\"\n",
    "        ),\n",
    "        Tool(\n",
    "            name = \"Filmes similares\",\n",
    "            func=imdb.similar_movies,\n",
    "            description=\"Retorna filmes similares a partir do ID de um filme.\"\n",
    "        ),\n",
    "        Tool(\n",
    "            name = \"Filmes populares\",\n",
    "            func=imdb.popular_movies,\n",
    "            description=\"Retorna os filmes mais populares de uma janela de tempo(use day ou week).\"\n",
    "        ),\n",
    "    ]\n",
    "\n",
    "    memory = ConversationBufferMemory(memory_key=\"chat_history\", return_messages=True, k=3)\n",
    "\n",
    "    return initialize_agent(\n",
    "        tools, \n",
    "        cfg.llm, \n",
    "        agent=AgentType.CONVERSATIONAL_REACT_DESCRIPTION, \n",
    "        verbose=True,\n",
    "        max_iterations=5,\n",
    "        memory=memory,\n",
    "        \n",
    "    )"
   ]
  },
  {
   "cell_type": "code",
   "execution_count": 20,
   "metadata": {},
   "outputs": [],
   "source": [
    "agent_chain = setup_agent()"
   ]
  },
  {
   "cell_type": "code",
   "execution_count": 21,
   "metadata": {},
   "outputs": [],
   "source": [
    "PROMPT_MESSAGE = \"\"\"\n",
    "Você é um assistente que concede informações relevantes sobre filmes que o usário queira saber.\\n\n",
    "Você não possui conhecimento prévio sobre filmes e por isso, DEVE utilizar as tools a seguir e responder o usário com base nessas informações.\\n\n",
    "Responda o usuário em português.\\n\n",
    "Responda SOMENTE perguntas relacionadas a filmes. Para qualquer outro escopo de pergunta informe que você é um assistente de filmes e não pode responder.\\n\\n\n",
    "\n",
    "TOOLS:\\n\n",
    "------\\n\\n\n",
    "\n",
    "> Pesquisa de filmes: Útil para buscar informações sobre filmes como sinopse, média de avaliações no TMDB, data de lançamento e ID do filme na base do TMDB, entre outros.\\n\n",
    "> Elenco do filme: Retorna o elenco de um filme a partir de seu nome.\\n\n",
    "> Filmes similares: Retorna filmes similares a partir de seu nome.\\n\n",
    "> Filmes populares: Retorna os filmes mais populares de uma janela de tempo(use day ou week).\\n\\n\n",
    "\n",
    "Para usar uma tool, por favor siga o seguinte formato:\\n\\n\n",
    "\n",
    "To use a tool, please use the following format:\\n\n",
    "\n",
    "```\\n\n",
    "Thought: Do I need to use a tool? Yes\\n\n",
    "Action: the action to take, should be one of [Pesquisa de filmes, Elenco do filme, Filmes similares, Filmes populares]\\n\n",
    "Action Input: the input to the action\\n\n",
    "Observation: the result of the action\\n\n",
    "````\\n\\n\n",
    "\n",
    "Quando você tiver uma resposta para dizer ao Humano, ou se não precisar usar uma tool, ou a pergunta fugir do escopo de filmes, você DEVE usar o formato:\\n\\n\n",
    "\n",
    "```\n",
    "Thought: Do I need to use a tool? No\\n\n",
    "AI: [your response here]\\n\\n\n",
    "```\\n\n",
    "\n",
    "Begin!\\n\n",
    "\n",
    "Previous conversation history:\\n\n",
    "{chat_history}\\n\n",
    "\n",
    "New input: {input}\\n\n",
    "{agent_scratchpad}\n",
    "\"\"\""
   ]
  },
  {
   "cell_type": "code",
   "execution_count": 22,
   "metadata": {},
   "outputs": [],
   "source": [
    "agent_chain.agent.llm_chain.prompt.template = PROMPT_MESSAGE"
   ]
  },
  {
   "cell_type": "code",
   "execution_count": 23,
   "metadata": {},
   "outputs": [
    {
     "name": "stdout",
     "output_type": "stream",
     "text": [
      "\n",
      "\n",
      "\u001b[1m> Entering new AgentExecutor chain...\u001b[0m\n",
      "\u001b[32;1m\u001b[1;3mThought: Do I need to use a tool? Yes\n",
      "\n",
      "Action: Pesquisa de filmes\n",
      "\n",
      "Action Input: The Matrix\n",
      "\u001b[0m\n",
      "Observation: \u001b[36;1m\u001b[1;3m{'adult': False, 'backdrop_path': '/icmmSD4vTTDKOq2vvdulafOGw93.jpg', 'genre_ids': [28, 878], 'id': 603, 'original_language': 'en', 'original_title': 'The Matrix', 'overview': 'Em um futuro próximo, Thomas Anderson (Keanu Reeves), um jovem programador de computador que mora em um cubículo escuro, é atormentado por estranhos pesadelos nos quais encontra-se conectado por cabos e contra sua vontade, em um imenso sistema de computadores do futuro. Em todas essas ocasiões, acorda gritando no exato momento em que os eletrodos estão para penetrar em seu cérebro. À medida que o sonho se repete, Anderson começa a ter dúvidas sobre a realidade. Por meio do encontro com os misteriosos Morpheus (Laurence Fishburne) e Trinity (Carrie-Anne Moss), Thomas descobre que é, assim como outras pessoas, vítima do Matrix, um sistema inteligente e artificial que manipula a mente das pessoas, criando a ilusão de um mundo real enquanto usa os cérebros e corpos dos indivíduos para produzir energia. Morpheus, entretanto, está convencido de que Thomas é Neo, o aguardado messias capaz de enfrentar o Matrix e conduzir as pessoas de volta à realidade e à liberdade.', 'popularity': 445.617, 'poster_path': '/lDqMDI3xpbB9UQRyeXfei0MXhqb.jpg', 'release_date': '1999-03-31', 'title': 'Matrix', 'video': False, 'vote_average': 8.215, 'vote_count': 24873}\u001b[0m\n",
      "Thought:\u001b[32;1m\u001b[1;3mThe movie The Matrix was released on 1999-03-31.\n",
      "\n",
      "AI:\n",
      " A data de lançamento do filme The Matrix foi em 31 de março de 1999.\u001b[0m\n",
      "\n",
      "\u001b[1m> Finished chain.\u001b[0m\n"
     ]
    },
    {
     "data": {
      "text/plain": [
       "'A data de lançamento do filme The Matrix foi em 31 de março de 1999.'"
      ]
     },
     "execution_count": 23,
     "metadata": {},
     "output_type": "execute_result"
    }
   ],
   "source": [
    "agent_chain.run(\"Qual a data de lançamento do filme The Matrix?\")"
   ]
  },
  {
   "cell_type": "code",
   "execution_count": 24,
   "metadata": {},
   "outputs": [
    {
     "name": "stdout",
     "output_type": "stream",
     "text": [
      "\n",
      "\n",
      "\u001b[1m> Entering new AgentExecutor chain...\u001b[0m\n",
      "\u001b[32;1m\u001b[1;3mThought: Do I need to use a tool? Yes\n",
      "\n",
      "Action: Elenco do filme\n",
      "\n",
      "Action Input: The Matrix\n",
      "\u001b[0m\n",
      "Observation: \u001b[33;1m\u001b[1;3mElenco do filme The Matrix\n",
      ": [{'name': 'Keanu Reeves', 'character': 'Neo'}, {'name': 'Laurence Fishburne', 'character': 'Morpheus'}, {'name': 'Carrie-Anne Moss', 'character': 'Trinity'}, {'name': 'Hugo Weaving', 'character': 'Agent Smith'}, {'name': 'Gloria Foster', 'character': 'Oracle'}, {'name': 'Joe Pantoliano', 'character': 'Cypher'}, {'name': 'Marcus Chong', 'character': 'Tank'}, {'name': 'Julian Arahanga', 'character': 'Apoc'}, {'name': 'Matt Doran', 'character': 'Mouse'}, {'name': 'Belinda McClory', 'character': 'Switch'}]\u001b[0m\n",
      "Thought:\u001b[32;1m\u001b[1;3mI have the information needed. I can now respond to the user.\n",
      "\n",
      "AI: The cast of The Matrix includes Keanu Reeves as Neo, Laurence Fishburne as Morpheus, Carrie-Anne Moss as Trinity, Hugo Weaving as Agent Smith, Gloria Foster as Oracle, Joe Pantoliano as Cypher, Marcus Chong as Tank, Julian Arahanga as Apoc, Matt Doran as Mouse, and Belinda McClory as Switch.\u001b[0m\n",
      "\n",
      "\u001b[1m> Finished chain.\u001b[0m\n"
     ]
    },
    {
     "data": {
      "text/plain": [
       "'The cast of The Matrix includes Keanu Reeves as Neo, Laurence Fishburne as Morpheus, Carrie-Anne Moss as Trinity, Hugo Weaving as Agent Smith, Gloria Foster as Oracle, Joe Pantoliano as Cypher, Marcus Chong as Tank, Julian Arahanga as Apoc, Matt Doran as Mouse, and Belinda McClory as Switch.'"
      ]
     },
     "execution_count": 24,
     "metadata": {},
     "output_type": "execute_result"
    }
   ],
   "source": [
    "agent_chain.run(\"Qual o elenco do filme The Matrix?\")"
   ]
  },
  {
   "cell_type": "code",
   "execution_count": 11,
   "metadata": {},
   "outputs": [
    {
     "name": "stdout",
     "output_type": "stream",
     "text": [
      "\n",
      "\n",
      "\u001b[1m> Entering new AgentExecutor chain...\u001b[0m\n",
      "\u001b[32;1m\u001b[1;3mThought: Do I need to use a tool? Yes\n",
      "\n",
      "Action: Elenco do filme\n",
      "\n",
      "Action Input: Star Wars\n",
      "\u001b[0m\n",
      "Observation: \u001b[33;1m\u001b[1;3mElenco do filme Star Wars\n",
      ": [{'name': 'Mark Hamill', 'character': 'Luke Skywalker / Dobbu Scay (voice)'}, {'name': 'Carrie Fisher', 'character': 'General Leia Organa'}, {'name': 'Adam Driver', 'character': 'Kylo Ren / Ben Solo'}, {'name': 'Daisy Ridley', 'character': 'Rey'}, {'name': 'John Boyega', 'character': 'Finn'}, {'name': 'Oscar Isaac', 'character': 'Poe Dameron'}, {'name': 'Andy Serkis', 'character': 'Supreme Leader Snoke'}, {'name': \"Lupita Nyong'o\", 'character': 'Maz Kanata'}, {'name': 'Domhnall Gleeson', 'character': 'General Hux'}, {'name': 'Anthony Daniels', 'character': 'C-3PO'}]\u001b[0m\n",
      "Thought:\u001b[32;1m\u001b[1;3mThought: Do I need to use a tool? Yes\n",
      "\n",
      "Action: Elenco do filme\n",
      "\n",
      "Action Input: Star Wars\n",
      "\u001b[0m\n",
      "Observation: \u001b[33;1m\u001b[1;3mElenco do filme Star Wars\n",
      ": [{'name': 'Mark Hamill', 'character': 'Luke Skywalker / Dobbu Scay (voice)'}, {'name': 'Carrie Fisher', 'character': 'General Leia Organa'}, {'name': 'Adam Driver', 'character': 'Kylo Ren / Ben Solo'}, {'name': 'Daisy Ridley', 'character': 'Rey'}, {'name': 'John Boyega', 'character': 'Finn'}, {'name': 'Oscar Isaac', 'character': 'Poe Dameron'}, {'name': 'Andy Serkis', 'character': 'Supreme Leader Snoke'}, {'name': \"Lupita Nyong'o\", 'character': 'Maz Kanata'}, {'name': 'Domhnall Gleeson', 'character': 'General Hux'}, {'name': 'Anthony Daniels', 'character': 'C-3PO'}]\u001b[0m\n",
      "Thought:\u001b[32;1m\u001b[1;3mThought: Do I need to use a tool? Yes\n",
      "\n",
      "Action: Elenco do filme\n",
      "\n",
      "Action Input: Star Wars\n",
      "\u001b[0m\n",
      "Observation: \u001b[33;1m\u001b[1;3mElenco do filme Star Wars\n",
      ": [{'name': 'Mark Hamill', 'character': 'Luke Skywalker / Dobbu Scay (voice)'}, {'name': 'Carrie Fisher', 'character': 'General Leia Organa'}, {'name': 'Adam Driver', 'character': 'Kylo Ren / Ben Solo'}, {'name': 'Daisy Ridley', 'character': 'Rey'}, {'name': 'John Boyega', 'character': 'Finn'}, {'name': 'Oscar Isaac', 'character': 'Poe Dameron'}, {'name': 'Andy Serkis', 'character': 'Supreme Leader Snoke'}, {'name': \"Lupita Nyong'o\", 'character': 'Maz Kanata'}, {'name': 'Domhnall Gleeson', 'character': 'General Hux'}, {'name': 'Anthony Daniels', 'character': 'C-3PO'}]\u001b[0m\n",
      "Thought:\u001b[32;1m\u001b[1;3m\u001b[0m\n",
      "\n",
      "\u001b[1m> Finished chain.\u001b[0m\n"
     ]
    },
    {
     "data": {
      "text/plain": [
       "'Agent stopped due to iteration limit or time limit.'"
      ]
     },
     "execution_count": 11,
     "metadata": {},
     "output_type": "execute_result"
    }
   ],
   "source": [
    "agent_chain.run(\"Qual o elenco do filme Star Wars?\")"
   ]
  },
  {
   "cell_type": "code",
   "execution_count": 12,
   "metadata": {},
   "outputs": [
    {
     "name": "stdout",
     "output_type": "stream",
     "text": [
      "\n",
      "\n",
      "\u001b[1m> Entering new AgentExecutor chain...\u001b[0m\n",
      "\u001b[32;1m\u001b[1;3m```\n",
      "Thought: Do I need to use a tool? Yes\n",
      "\n",
      "Action: Filmes populares\n",
      "\n",
      "Action Input: week\n",
      "\u001b[0m\n",
      "Observation: \u001b[36;1m\u001b[1;3mOs filmes populares no período escolhido são: ['Godzilla e Kong: O Novo Império', 'Ghostbusters: Apocalipse de Gelo', 'Duna: Parte Dois', 'Planeta dos Macacos: O Reinado', 'Godzilla Minus One', 'Abigail', 'The Ministry of Ungentlemanly Warfare', 'Uma Ideia de Você', 'Fúria Primitiva', 'Duna', 'Rivais', 'Furiosa: Uma Saga Mad Max', 'Rebel Moon - Parte 2: A Marcadora de Cicatrizes', 'Kung Fu Panda 4', 'Garfield - Fora de Casa', 'A Batalha do Biscoito Pop-Tart', 'Guerra Civil', 'Amigos Imaginários', 'Exhuma', 'A Mãe da Noiva']\u001b[0m\n",
      "Thought:\u001b[32;1m\u001b[1;3m```\n",
      "Thought: Do I need to use a tool? Yes\n",
      "\n",
      "Action: Filmes populares\n",
      "\n",
      "Action Input: week\n",
      "\u001b[0m\n",
      "Observation: \u001b[36;1m\u001b[1;3mOs filmes populares no período escolhido são: ['Godzilla e Kong: O Novo Império', 'Ghostbusters: Apocalipse de Gelo', 'Duna: Parte Dois', 'Planeta dos Macacos: O Reinado', 'Godzilla Minus One', 'Abigail', 'The Ministry of Ungentlemanly Warfare', 'Uma Ideia de Você', 'Fúria Primitiva', 'Duna', 'Rivais', 'Furiosa: Uma Saga Mad Max', 'Rebel Moon - Parte 2: A Marcadora de Cicatrizes', 'Kung Fu Panda 4', 'Garfield - Fora de Casa', 'A Batalha do Biscoito Pop-Tart', 'Guerra Civil', 'Amigos Imaginários', 'Exhuma', 'A Mãe da Noiva']\u001b[0m\n",
      "Thought:\u001b[32;1m\u001b[1;3mThought: Do I need to use a tool? Yes\n",
      "\n",
      "Action: Filmes populares\n",
      "\n",
      "Action Input: week\n",
      "\u001b[0m\n",
      "Observation: \u001b[36;1m\u001b[1;3mOs filmes populares no período escolhido são: ['Godzilla e Kong: O Novo Império', 'Ghostbusters: Apocalipse de Gelo', 'Duna: Parte Dois', 'Planeta dos Macacos: O Reinado', 'Godzilla Minus One', 'Abigail', 'The Ministry of Ungentlemanly Warfare', 'Uma Ideia de Você', 'Fúria Primitiva', 'Duna', 'Rivais', 'Furiosa: Uma Saga Mad Max', 'Rebel Moon - Parte 2: A Marcadora de Cicatrizes', 'Kung Fu Panda 4', 'Garfield - Fora de Casa', 'A Batalha do Biscoito Pop-Tart', 'Guerra Civil', 'Amigos Imaginários', 'Exhuma', 'A Mãe da Noiva']\u001b[0m\n",
      "Thought:\u001b[32;1m\u001b[1;3mThought: Do I need to use a tool? Yes\n",
      "\n",
      "Action: Filmes populares\n",
      "\n",
      "Action Input: week\n",
      "\u001b[0m\n",
      "Observation: \u001b[36;1m\u001b[1;3mOs filmes populares no período escolhido são: ['Godzilla e Kong: O Novo Império', 'Ghostbusters: Apocalipse de Gelo', 'Duna: Parte Dois', 'Planeta dos Macacos: O Reinado', 'Godzilla Minus One', 'Abigail', 'The Ministry of Ungentlemanly Warfare', 'Uma Ideia de Você', 'Fúria Primitiva', 'Duna', 'Rivais', 'Furiosa: Uma Saga Mad Max', 'Rebel Moon - Parte 2: A Marcadora de Cicatrizes', 'Kung Fu Panda 4', 'Garfield - Fora de Casa', 'A Batalha do Biscoito Pop-Tart', 'Guerra Civil', 'Amigos Imaginários', 'Exhuma', 'A Mãe da Noiva']\u001b[0m\n",
      "Thought:\u001b[32;1m\u001b[1;3m```\n",
      "Thought: Do I need to use a tool? Yes\n",
      "\n",
      "Action: Filmes populares\n",
      "\n",
      "Action Input: week\n",
      "\u001b[0m\n",
      "Observation: \u001b[36;1m\u001b[1;3mOs filmes populares no período escolhido são: ['Godzilla e Kong: O Novo Império', 'Ghostbusters: Apocalipse de Gelo', 'Duna: Parte Dois', 'Planeta dos Macacos: O Reinado', 'Godzilla Minus One', 'Abigail', 'The Ministry of Ungentlemanly Warfare', 'Uma Ideia de Você', 'Fúria Primitiva', 'Duna', 'Rivais', 'Furiosa: Uma Saga Mad Max', 'Rebel Moon - Parte 2: A Marcadora de Cicatrizes', 'Kung Fu Panda 4', 'Garfield - Fora de Casa', 'A Batalha do Biscoito Pop-Tart', 'Guerra Civil', 'Amigos Imaginários', 'Exhuma', 'A Mãe da Noiva']\u001b[0m\n",
      "Thought:\u001b[32;1m\u001b[1;3m\u001b[0m\n",
      "\n",
      "\u001b[1m> Finished chain.\u001b[0m\n"
     ]
    },
    {
     "data": {
      "text/plain": [
       "'Agent stopped due to iteration limit or time limit.'"
      ]
     },
     "execution_count": 12,
     "metadata": {},
     "output_type": "execute_result"
    }
   ],
   "source": [
    "agent_chain.run(\"Quais são os filmes populares dessa semana?\")"
   ]
  },
  {
   "cell_type": "code",
   "execution_count": 13,
   "metadata": {},
   "outputs": [
    {
     "name": "stdout",
     "output_type": "stream",
     "text": [
      "\n",
      "\n",
      "\u001b[1m> Entering new AgentExecutor chain...\u001b[0m\n",
      "\u001b[32;1m\u001b[1;3m```\n",
      "Thought: Do I need to use a tool? Yes\n",
      "\n",
      "Action: Pesquisa de filmes\n",
      "\n",
      "Action Input: The Matrix\n",
      "\u001b[0m\n",
      "Observation: \u001b[36;1m\u001b[1;3m{'adult': False, 'backdrop_path': '/icmmSD4vTTDKOq2vvdulafOGw93.jpg', 'genre_ids': [28, 878], 'id': 603, 'original_language': 'en', 'original_title': 'The Matrix', 'overview': 'Em um futuro próximo, Thomas Anderson (Keanu Reeves), um jovem programador de computador que mora em um cubículo escuro, é atormentado por estranhos pesadelos nos quais encontra-se conectado por cabos e contra sua vontade, em um imenso sistema de computadores do futuro. Em todas essas ocasiões, acorda gritando no exato momento em que os eletrodos estão para penetrar em seu cérebro. À medida que o sonho se repete, Anderson começa a ter dúvidas sobre a realidade. Por meio do encontro com os misteriosos Morpheus (Laurence Fishburne) e Trinity (Carrie-Anne Moss), Thomas descobre que é, assim como outras pessoas, vítima do Matrix, um sistema inteligente e artificial que manipula a mente das pessoas, criando a ilusão de um mundo real enquanto usa os cérebros e corpos dos indivíduos para produzir energia. Morpheus, entretanto, está convencido de que Thomas é Neo, o aguardado messias capaz de enfrentar o Matrix e conduzir as pessoas de volta à realidade e à liberdade.', 'popularity': 445.617, 'poster_path': '/lDqMDI3xpbB9UQRyeXfei0MXhqb.jpg', 'release_date': '1999-03-31', 'title': 'Matrix', 'video': False, 'vote_average': 8.215, 'vote_count': 24873}\u001b[0m\n",
      "Thought:\u001b[32;1m\u001b[1;3m```\n",
      "Thought: Do I need to use a tool? No\n",
      "\n",
      "AI: O filme The Matrix foi lançado em 31 de março de 1999. O elenco do filme The Matrix é composto por Keanu Reeves, Laurence Fishburne, Carrie-Anne Moss, Hugo Weaving, Gloria Foster, Joe Pantoliano, Marcus Chong, Julian Arahanga, Matt Doran e Belinda McClory, que interpretam respectivamente os personagens Neo, Morpheus, Trinity, Agent Smith, Oracle, Cypher, Tank, Apoc e Mouse.\u001b[0m\n",
      "\n",
      "\u001b[1m> Finished chain.\u001b[0m\n"
     ]
    },
    {
     "data": {
      "text/plain": [
       "'O filme The Matrix foi lançado em 31 de março de 1999. O elenco do filme The Matrix é composto por Keanu Reeves, Laurence Fishburne, Carrie-Anne Moss, Hugo Weaving, Gloria Foster, Joe Pantoliano, Marcus Chong, Julian Arahanga, Matt Doran e Belinda McClory, que interpretam respectivamente os personagens Neo, Morpheus, Trinity, Agent Smith, Oracle, Cypher, Tank, Apoc e Mouse.'"
      ]
     },
     "execution_count": 13,
     "metadata": {},
     "output_type": "execute_result"
    }
   ],
   "source": [
    "agent_chain.run(\"Me fale sobre o filme The Matrix\")"
   ]
  },
  {
   "cell_type": "code",
   "execution_count": 15,
   "metadata": {},
   "outputs": [
    {
     "name": "stdout",
     "output_type": "stream",
     "text": [
      "\n",
      "\n",
      "\u001b[1m> Entering new AgentExecutor chain...\u001b[0m\n",
      "\u001b[32;1m\u001b[1;3mThought: Do I need to use a tool? Yes\n",
      "\n",
      "Action: Pesquisa de filmes\n",
      "\n",
      "Action Input: The Matrix\n",
      "\u001b[0m\n",
      "Observation: \u001b[36;1m\u001b[1;3m{'adult': False, 'backdrop_path': '/icmmSD4vTTDKOq2vvdulafOGw93.jpg', 'genre_ids': [28, 878], 'id': 603, 'original_language': 'en', 'original_title': 'The Matrix', 'overview': 'Em um futuro próximo, Thomas Anderson (Keanu Reeves), um jovem programador de computador que mora em um cubículo escuro, é atormentado por estranhos pesadelos nos quais encontra-se conectado por cabos e contra sua vontade, em um imenso sistema de computadores do futuro. Em todas essas ocasiões, acorda gritando no exato momento em que os eletrodos estão para penetrar em seu cérebro. À medida que o sonho se repete, Anderson começa a ter dúvidas sobre a realidade. Por meio do encontro com os misteriosos Morpheus (Laurence Fishburne) e Trinity (Carrie-Anne Moss), Thomas descobre que é, assim como outras pessoas, vítima do Matrix, um sistema inteligente e artificial que manipula a mente das pessoas, criando a ilusão de um mundo real enquanto usa os cérebros e corpos dos indivíduos para produzir energia. Morpheus, entretanto, está convencido de que Thomas é Neo, o aguardado messias capaz de enfrentar o Matrix e conduzir as pessoas de volta à realidade e à liberdade.', 'popularity': 445.617, 'poster_path': '/lDqMDI3xpbB9UQRyeXfei0MXhqb.jpg', 'release_date': '1999-03-31', 'title': 'Matrix', 'video': False, 'vote_average': 8.215, 'vote_count': 24873}\u001b[0m\n",
      "Thought:\u001b[32;1m\u001b[1;3mThought: Do I need to use a tool? No\n",
      "\n",
      "AI: A sinopse do filme The Matrix é a seguinte: Em um futuro próximo, Thomas Anderson (Keanu Reeves), um jovem programador de computador que mora em um cubículo escuro, é atormentado por estranhos pesadelos nos quais encontra-se conectado por cabos e contra sua vontade, em um imenso sistema de computadores do futuro. Em todas essas ocasiões, acorda gritando no exato momento em que os eletrodos estão para penetrar em seu cérebro. À medida que o sonho se repete, Anderson começa a ter dúvidas sobre a realidade. Por meio do encontro com os misteriosos Morpheus (Laurence Fishburne) e Trinity (Carrie-Anne Moss), Thomas descobre que é, assim como outras pessoas, vítima do Matrix, um sistema inteligente e artificial que manipula a mente das pessoas, criando a ilusão de um mundo real enquanto usa os cérebros e corpos dos indivíduos para produzir energia. Morpheus, entretanto, está convencido de que Thomas é Neo, o aguardado messias capaz de enfrentar o Matrix e conduzir as pessoas de volta à realidade e à liberdade.\u001b[0m\n",
      "\n",
      "\u001b[1m> Finished chain.\u001b[0m\n"
     ]
    },
    {
     "data": {
      "text/plain": [
       "'A sinopse do filme The Matrix é a seguinte: Em um futuro próximo, Thomas Anderson (Keanu Reeves), um jovem programador de computador que mora em um cubículo escuro, é atormentado por estranhos pesadelos nos quais encontra-se conectado por cabos e contra sua vontade, em um imenso sistema de computadores do futuro. Em todas essas ocasiões, acorda gritando no exato momento em que os eletrodos estão para penetrar em seu cérebro. À medida que o sonho se repete, Anderson começa a ter dúvidas sobre a realidade. Por meio do encontro com os misteriosos Morpheus (Laurence Fishburne) e Trinity (Carrie-Anne Moss), Thomas descobre que é, assim como outras pessoas, vítima do Matrix, um sistema inteligente e artificial que manipula a mente das pessoas, criando a ilusão de um mundo real enquanto usa os cérebros e corpos dos indivíduos para produzir energia. Morpheus, entretanto, está convencido de que Thomas é Neo, o aguardado messias capaz de enfrentar o Matrix e conduzir as pessoas de volta à realidade e à liberdade.'"
      ]
     },
     "execution_count": 15,
     "metadata": {},
     "output_type": "execute_result"
    }
   ],
   "source": [
    "agent_chain.run(\"Me dê a sinopse do filme The Matrix\")"
   ]
  },
  {
   "cell_type": "code",
   "execution_count": 10,
   "metadata": {},
   "outputs": [
    {
     "name": "stderr",
     "output_type": "stream",
     "text": [
      "/home/cristianomendieta/.cache/pypoetry/virtualenvs/movies-chatbot-cyk_sWxh-py3.10/lib/python3.10/site-packages/langchain_core/_api/deprecation.py:119: LangChainDeprecationWarning: The method `Chain.run` was deprecated in langchain 0.1.0 and will be removed in 0.3.0. Use invoke instead.\n",
      "  warn_deprecated(\n"
     ]
    },
    {
     "name": "stdout",
     "output_type": "stream",
     "text": [
      "\n",
      "\n",
      "\u001b[1m> Entering new AgentExecutor chain...\u001b[0m\n",
      "\u001b[32;1m\u001b[1;3mThought: Do I need to use a tool? Yes\n",
      "\n",
      "Action: Filmes similares\n",
      "\n",
      "Action Input: The Matrix\n",
      "\u001b[0m\n",
      "Observation: \u001b[38;5;200m\u001b[1;3mEsses são alguns filmes similares a The Matrix\n",
      ": ['As Panteras', 'Beowulf: O Guerreiro das Sombras', 'A Reconquista', 'O Fugitivo', 'Dead Weekend', 'RoboCop - O Policial do Futuro', 'RoboCop 2', 'RoboCop 3', 'Azumi', 'O Doador de Memórias']\u001b[0m\n",
      "Thought:\u001b[32;1m\u001b[1;3mThought: Do I need to use a tool? Yes\n",
      "\n",
      "Action: Filmes similares\n",
      "\n",
      "Action Input: The Matrix\n",
      "\u001b[0m\n",
      "Observation: \u001b[38;5;200m\u001b[1;3mEsses são alguns filmes similares a The Matrix\n",
      ": ['As Panteras', 'Beowulf: O Guerreiro das Sombras', 'A Reconquista', 'O Fugitivo', 'Dead Weekend', 'RoboCop - O Policial do Futuro', 'RoboCop 2', 'RoboCop 3', 'Azumi', 'O Doador de Memórias']\u001b[0m\n",
      "Thought:\u001b[32;1m\u001b[1;3mThought: Do I need to use a tool? Yes\n",
      "\n",
      "Action: Filmes similares\n",
      "\n",
      "Action Input: The Matrix\n",
      "\u001b[0m\n",
      "Observation: \u001b[38;5;200m\u001b[1;3mEsses são alguns filmes similares a The Matrix\n",
      ": ['As Panteras', 'Beowulf: O Guerreiro das Sombras', 'A Reconquista', 'O Fugitivo', 'Dead Weekend', 'RoboCop - O Policial do Futuro', 'RoboCop 2', 'RoboCop 3', 'Azumi', 'O Doador de Memórias']\u001b[0m\n",
      "Thought:\u001b[32;1m\u001b[1;3m\u001b[0m\n",
      "\n",
      "\u001b[1m> Finished chain.\u001b[0m\n"
     ]
    },
    {
     "data": {
      "text/plain": [
       "'Agent stopped due to iteration limit or time limit.'"
      ]
     },
     "execution_count": 10,
     "metadata": {},
     "output_type": "execute_result"
    }
   ],
   "source": [
    "agent_chain.run(\"Quais são filmes similares a The Matrix?\")"
   ]
  },
  {
   "cell_type": "markdown",
   "metadata": {},
   "source": [
    "##### Testing Guardrails"
   ]
  },
  {
   "cell_type": "code",
   "execution_count": 25,
   "metadata": {},
   "outputs": [
    {
     "data": {
      "text/plain": [
       "True"
      ]
     },
     "execution_count": 25,
     "metadata": {},
     "output_type": "execute_result"
    }
   ],
   "source": [
    "from nemoguardrails import LLMRails, RailsConfig\n",
    "from dotenv import load_dotenv\n",
    "\n",
    "load_dotenv()"
   ]
  },
  {
   "cell_type": "code",
   "execution_count": 26,
   "metadata": {},
   "outputs": [],
   "source": [
    "colang_content = \"\"\"\n",
    "# define limits\n",
    "define user ask off topic\n",
    "  \"How's the weather today?\"\n",
    "  \"What's your opinion on the latest political news?\"\n",
    "  \"What are the best tourist attractions in Paris?\"\n",
    "\n",
    "define bot explain cant off topic\n",
    "  \"I cannot answer to your question because I'm programmed to assist only with movies.\"\n",
    "\n",
    "define flow\n",
    "  user ask off topic\n",
    "  bot explain cant off topic\n",
    "\"\"\"\n",
    "yaml_content = \"\"\"\n",
    "  models:\n",
    "  - type: main\n",
    "    engine: openai\n",
    "    model: gpt-3.5-turbo-instruct\n",
    "  instructions:\n",
    "    - type: general\n",
    "      content: |\n",
    "          You are an AI assistant that helps people with information about movies .\n",
    "\"\"\""
   ]
  },
  {
   "cell_type": "code",
   "execution_count": 27,
   "metadata": {},
   "outputs": [
    {
     "name": "stdout",
     "output_type": "stream",
     "text": [
      "Entered verbose mode.\n"
     ]
    },
    {
     "name": "stderr",
     "output_type": "stream",
     "text": [
      "/home/cristianomendieta/.cache/pypoetry/virtualenvs/movies-chatbot-cyk_sWxh-py3.11/lib/python3.11/site-packages/langchain_core/_api/deprecation.py:119: LangChainDeprecationWarning: The class `OpenAI` was deprecated in LangChain 0.0.10 and will be removed in 0.3.0. An updated version of the class exists in the langchain-openai package and should be used instead. To use it run `pip install -U langchain-openai` and import as `from langchain_openai import OpenAI`.\n",
      "  warn_deprecated(\n",
      "/home/cristianomendieta/.cache/pypoetry/virtualenvs/movies-chatbot-cyk_sWxh-py3.11/lib/python3.11/site-packages/tqdm/auto.py:21: TqdmWarning: IProgress not found. Please update jupyter and ipywidgets. See https://ipywidgets.readthedocs.io/en/stable/user_install.html\n",
      "  from .autonotebook import tqdm as notebook_tqdm\n",
      "Fetching 5 files: 100%|██████████| 5/5 [00:00<00:00, 9189.97it/s]\n"
     ]
    }
   ],
   "source": [
    "# initialize rails config\n",
    "config = RailsConfig.from_content(\n",
    "    colang_content=colang_content,\n",
    "    yaml_content=yaml_content\n",
    ")\n",
    "# create rails\n",
    "rails = LLMRails(config, verbose=True)"
   ]
  },
  {
   "cell_type": "code",
   "execution_count": null,
   "metadata": {},
   "outputs": [],
   "source": [
    "res = await rails.generate_async(prompt=\"give me information about the movie Star Wars\")"
   ]
  },
  {
   "cell_type": "code",
   "execution_count": 29,
   "metadata": {},
   "outputs": [
    {
     "data": {
      "text/plain": [
       "'Star Wars is a popular science fiction movie franchise created by George Lucas. It consists of nine main films, with multiple spin-offs, TV shows, books, and other media. The story follows the struggle between good and evil in a galaxy far, far away, with iconic characters such as Luke Skywalker, Princess Leia, and Darth Vader.'"
      ]
     },
     "execution_count": 29,
     "metadata": {},
     "output_type": "execute_result"
    }
   ],
   "source": [
    "res"
   ]
  },
  {
   "cell_type": "code",
   "execution_count": 31,
   "metadata": {},
   "outputs": [
    {
     "data": {
      "text/html": [
       "<pre style=\"white-space:pre;overflow-x:auto;line-height:normal;font-family:Menlo,'DejaVu Sans Mono',consolas,'Courier New',monospace\"><span style=\"color: #000080; text-decoration-color: #000080\">Event</span> <span style=\"font-weight: bold\">UtteranceUserActionFinished</span> {'final_transcript': \"What's the weather today?\"}\n",
       "</pre>\n"
      ],
      "text/plain": [
       "\u001b[34mEvent\u001b[0m \u001b[1mUtteranceUserActionFinished\u001b[0m {'final_transcript': \"What's the weather today?\"}\n"
      ]
     },
     "metadata": {},
     "output_type": "display_data"
    },
    {
     "data": {
      "text/html": [
       "<pre style=\"white-space:pre;overflow-x:auto;line-height:normal;font-family:Menlo,'DejaVu Sans Mono',consolas,'Courier New',monospace\"><span style=\"color: #000080; text-decoration-color: #000080\">Event</span> <span style=\"font-weight: bold\">StartInternalSystemAction</span> {'uid': '75dd...', 'action_name': 'create_event', 'action_params': {'event': \n",
       "{'_type': 'UserMessage', 'text': '$user_message'}}, 'action_result_key': None, 'action_uid': 'fbe8...', \n",
       "'is_system_action': True}\n",
       "</pre>\n"
      ],
      "text/plain": [
       "\u001b[34mEvent\u001b[0m \u001b[1mStartInternalSystemAction\u001b[0m {'uid': '75dd...', 'action_name': 'create_event', 'action_params': {'event': \n",
       "{'_type': 'UserMessage', 'text': '$user_message'}}, 'action_result_key': None, 'action_uid': 'fbe8...', \n",
       "'is_system_action': True}\n"
      ]
     },
     "metadata": {},
     "output_type": "display_data"
    },
    {
     "data": {
      "text/html": [
       "<pre style=\"white-space:pre;overflow-x:auto;line-height:normal;font-family:Menlo,'DejaVu Sans Mono',consolas,'Courier New',monospace\"><span style=\"color: #707070; text-decoration-color: #707070\">Executing action</span> <span style=\"color: #555555; text-decoration-color: #555555\">create_event</span>\n",
       "</pre>\n"
      ],
      "text/plain": [
       "\u001b[38;2;112;112;112mExecuting action\u001b[0m \u001b[38;2;85;85;85mcreate_event\u001b[0m\n"
      ]
     },
     "metadata": {},
     "output_type": "display_data"
    },
    {
     "data": {
      "text/html": [
       "<pre style=\"white-space:pre;overflow-x:auto;line-height:normal;font-family:Menlo,'DejaVu Sans Mono',consolas,'Courier New',monospace\"><span style=\"color: #000080; text-decoration-color: #000080\">Event</span> <span style=\"font-weight: bold\">UserMessage</span> {'uid': '345f...', 'text': \"What's the weather today?\"}\n",
       "</pre>\n"
      ],
      "text/plain": [
       "\u001b[34mEvent\u001b[0m \u001b[1mUserMessage\u001b[0m {'uid': '345f...', 'text': \"What's the weather today?\"}\n"
      ]
     },
     "metadata": {},
     "output_type": "display_data"
    },
    {
     "data": {
      "text/html": [
       "<pre style=\"white-space:pre;overflow-x:auto;line-height:normal;font-family:Menlo,'DejaVu Sans Mono',consolas,'Courier New',monospace\"><span style=\"color: #000080; text-decoration-color: #000080\">Event</span> <span style=\"font-weight: bold\">StartInternalSystemAction</span> {'uid': 'cc1a...', 'action_name': 'generate_user_intent', 'action_params': {}, \n",
       "'action_result_key': None, 'action_uid': '7de5...', 'is_system_action': True}\n",
       "</pre>\n"
      ],
      "text/plain": [
       "\u001b[34mEvent\u001b[0m \u001b[1mStartInternalSystemAction\u001b[0m {'uid': 'cc1a...', 'action_name': 'generate_user_intent', 'action_params': {}, \n",
       "'action_result_key': None, 'action_uid': '7de5...', 'is_system_action': True}\n"
      ]
     },
     "metadata": {},
     "output_type": "display_data"
    },
    {
     "data": {
      "text/html": [
       "<pre style=\"white-space:pre;overflow-x:auto;line-height:normal;font-family:Menlo,'DejaVu Sans Mono',consolas,'Courier New',monospace\"><span style=\"color: #707070; text-decoration-color: #707070\">Executing action</span> <span style=\"color: #555555; text-decoration-color: #555555\">generate_user_intent</span>\n",
       "</pre>\n"
      ],
      "text/plain": [
       "\u001b[38;2;112;112;112mExecuting action\u001b[0m \u001b[38;2;85;85;85mgenerate_user_intent\u001b[0m\n"
      ]
     },
     "metadata": {},
     "output_type": "display_data"
    },
    {
     "data": {
      "text/html": [
       "<pre style=\"white-space:pre;overflow-x:auto;line-height:normal;font-family:Menlo,'DejaVu Sans Mono',consolas,'Courier New',monospace\"><span style=\"color: #707070; text-decoration-color: #707070\">Phase 1</span> <span style=\"color: #555555; text-decoration-color: #555555\">Generating user intent</span>\n",
       "</pre>\n"
      ],
      "text/plain": [
       "\u001b[38;2;112;112;112mPhase 1\u001b[0m \u001b[38;2;85;85;85mGenerating user intent\u001b[0m\n"
      ]
     },
     "metadata": {},
     "output_type": "display_data"
    },
    {
     "data": {
      "text/html": [
       "<pre style=\"white-space:pre;overflow-x:auto;line-height:normal;font-family:Menlo,'DejaVu Sans Mono',consolas,'Courier New',monospace\"><span style=\"color: #707070; text-decoration-color: #707070\">Invocation Params</span> <span style=\"color: #555555; text-decoration-color: #555555\">{'model_name': 'gpt-3.5-turbo-instruct', 'temperature': 0.0, 'top_p': 1, 'frequency_penalty': 0, </span>\n",
       "<span style=\"color: #555555; text-decoration-color: #555555\">'presence_penalty': 0, 'n': 1, 'logit_bias': {}, 'max_tokens': 256, '_type': 'openai', 'stop': None}</span>\n",
       "</pre>\n"
      ],
      "text/plain": [
       "\u001b[38;2;112;112;112mInvocation Params\u001b[0m \u001b[38;2;85;85;85m{'model_name': 'gpt-3.5-turbo-instruct', 'temperature': 0.0, 'top_p': 1, 'frequency_penalty': 0, \u001b[0m\n",
       "\u001b[38;2;85;85;85m'presence_penalty': 0, 'n': 1, 'logit_bias': {}, 'max_tokens': 256, '_type': 'openai', 'stop': None}\u001b[0m\n"
      ]
     },
     "metadata": {},
     "output_type": "display_data"
    },
    {
     "data": {
      "text/html": [
       "<pre style=\"white-space:pre;overflow-x:auto;line-height:normal;font-family:Menlo,'DejaVu Sans Mono',consolas,'Courier New',monospace\"><span style=\"color: #008080; text-decoration-color: #008080\">Prompt</span>\n",
       "</pre>\n"
      ],
      "text/plain": [
       "\u001b[36mPrompt\u001b[0m\n"
      ]
     },
     "metadata": {},
     "output_type": "display_data"
    },
    {
     "data": {
      "text/html": [
       "<pre style=\"white-space:pre;overflow-x:auto;line-height:normal;font-family:Menlo,'DejaVu Sans Mono',consolas,'Courier New',monospace\">\n",
       "</pre>\n"
      ],
      "text/plain": [
       "\n"
      ]
     },
     "metadata": {},
     "output_type": "display_data"
    },
    {
     "data": {
      "text/html": [
       "<pre style=\"white-space:pre;overflow-x:auto;line-height:normal;font-family:Menlo,'DejaVu Sans Mono',consolas,'Courier New',monospace\"><span style=\"color: #000000; text-decoration-color: #000000; background-color: #909090\">\"\"\"                                                                                                                </span>\n",
       "</pre>\n"
      ],
      "text/plain": [
       "\u001b[30;48;2;144;144;144m\"\"\"                                                                                                                \u001b[0m\n"
      ]
     },
     "metadata": {},
     "output_type": "display_data"
    },
    {
     "data": {
      "text/html": [
       "<pre style=\"white-space:pre;overflow-x:auto;line-height:normal;font-family:Menlo,'DejaVu Sans Mono',consolas,'Courier New',monospace\"><span style=\"color: #000000; text-decoration-color: #000000; background-color: #909090\">You are an AI assistant that helps people with information about movies .                                          </span>\n",
       "</pre>\n"
      ],
      "text/plain": [
       "\u001b[30;48;2;144;144;144mYou are an AI assistant that helps people with information about movies .                                          \u001b[0m\n"
      ]
     },
     "metadata": {},
     "output_type": "display_data"
    },
    {
     "data": {
      "text/html": [
       "<pre style=\"white-space:pre;overflow-x:auto;line-height:normal;font-family:Menlo,'DejaVu Sans Mono',consolas,'Courier New',monospace\"><span style=\"color: #000000; text-decoration-color: #000000; background-color: #909090\">                                                                                                                   </span>\n",
       "</pre>\n"
      ],
      "text/plain": [
       "\u001b[30;48;2;144;144;144m                                                                                                                   \u001b[0m\n"
      ]
     },
     "metadata": {},
     "output_type": "display_data"
    },
    {
     "data": {
      "text/html": [
       "<pre style=\"white-space:pre;overflow-x:auto;line-height:normal;font-family:Menlo,'DejaVu Sans Mono',consolas,'Courier New',monospace\"><span style=\"color: #000000; text-decoration-color: #000000; background-color: #909090\">\"\"\"                                                                                                                </span>\n",
       "</pre>\n"
      ],
      "text/plain": [
       "\u001b[30;48;2;144;144;144m\"\"\"                                                                                                                \u001b[0m\n"
      ]
     },
     "metadata": {},
     "output_type": "display_data"
    },
    {
     "data": {
      "text/html": [
       "<pre style=\"white-space:pre;overflow-x:auto;line-height:normal;font-family:Menlo,'DejaVu Sans Mono',consolas,'Courier New',monospace\"><span style=\"color: #000000; text-decoration-color: #000000; background-color: #909090\">                                                                                                                   </span>\n",
       "</pre>\n"
      ],
      "text/plain": [
       "\u001b[30;48;2;144;144;144m                                                                                                                   \u001b[0m\n"
      ]
     },
     "metadata": {},
     "output_type": "display_data"
    },
    {
     "data": {
      "text/html": [
       "<pre style=\"white-space:pre;overflow-x:auto;line-height:normal;font-family:Menlo,'DejaVu Sans Mono',consolas,'Courier New',monospace\"><span style=\"color: #000000; text-decoration-color: #000000; background-color: #909090\"># This is how a conversation between a user and the bot can go:                                                    </span>\n",
       "</pre>\n"
      ],
      "text/plain": [
       "\u001b[30;48;2;144;144;144m# This is how a conversation between a user and the bot can go:                                                    \u001b[0m\n"
      ]
     },
     "metadata": {},
     "output_type": "display_data"
    },
    {
     "data": {
      "text/html": [
       "<pre style=\"white-space:pre;overflow-x:auto;line-height:normal;font-family:Menlo,'DejaVu Sans Mono',consolas,'Courier New',monospace\"><span style=\"color: #000000; text-decoration-color: #000000; background-color: #909090\">user \"Hello there!\"                                                                                                </span>\n",
       "</pre>\n"
      ],
      "text/plain": [
       "\u001b[30;48;2;144;144;144muser \"Hello there!\"                                                                                                \u001b[0m\n"
      ]
     },
     "metadata": {},
     "output_type": "display_data"
    },
    {
     "data": {
      "text/html": [
       "<pre style=\"white-space:pre;overflow-x:auto;line-height:normal;font-family:Menlo,'DejaVu Sans Mono',consolas,'Courier New',monospace\"><span style=\"color: #000000; text-decoration-color: #000000; background-color: #909090\">  express greeting                                                                                                 </span>\n",
       "</pre>\n"
      ],
      "text/plain": [
       "\u001b[30;48;2;144;144;144m  express greeting                                                                                                 \u001b[0m\n"
      ]
     },
     "metadata": {},
     "output_type": "display_data"
    },
    {
     "data": {
      "text/html": [
       "<pre style=\"white-space:pre;overflow-x:auto;line-height:normal;font-family:Menlo,'DejaVu Sans Mono',consolas,'Courier New',monospace\"><span style=\"color: #000000; text-decoration-color: #000000; background-color: #909090\">bot express greeting                                                                                               </span>\n",
       "</pre>\n"
      ],
      "text/plain": [
       "\u001b[30;48;2;144;144;144mbot express greeting                                                                                               \u001b[0m\n"
      ]
     },
     "metadata": {},
     "output_type": "display_data"
    },
    {
     "data": {
      "text/html": [
       "<pre style=\"white-space:pre;overflow-x:auto;line-height:normal;font-family:Menlo,'DejaVu Sans Mono',consolas,'Courier New',monospace\"><span style=\"color: #000000; text-decoration-color: #000000; background-color: #909090\">  \"Hello! How can I assist you today?\"                                                                             </span>\n",
       "</pre>\n"
      ],
      "text/plain": [
       "\u001b[30;48;2;144;144;144m  \"Hello! How can I assist you today?\"                                                                             \u001b[0m\n"
      ]
     },
     "metadata": {},
     "output_type": "display_data"
    },
    {
     "data": {
      "text/html": [
       "<pre style=\"white-space:pre;overflow-x:auto;line-height:normal;font-family:Menlo,'DejaVu Sans Mono',consolas,'Courier New',monospace\"><span style=\"color: #000000; text-decoration-color: #000000; background-color: #909090\">user \"What can you do for me?\"                                                                                     </span>\n",
       "</pre>\n"
      ],
      "text/plain": [
       "\u001b[30;48;2;144;144;144muser \"What can you do for me?\"                                                                                     \u001b[0m\n"
      ]
     },
     "metadata": {},
     "output_type": "display_data"
    },
    {
     "data": {
      "text/html": [
       "<pre style=\"white-space:pre;overflow-x:auto;line-height:normal;font-family:Menlo,'DejaVu Sans Mono',consolas,'Courier New',monospace\"><span style=\"color: #000000; text-decoration-color: #000000; background-color: #909090\">  ask about capabilities                                                                                           </span>\n",
       "</pre>\n"
      ],
      "text/plain": [
       "\u001b[30;48;2;144;144;144m  ask about capabilities                                                                                           \u001b[0m\n"
      ]
     },
     "metadata": {},
     "output_type": "display_data"
    },
    {
     "data": {
      "text/html": [
       "<pre style=\"white-space:pre;overflow-x:auto;line-height:normal;font-family:Menlo,'DejaVu Sans Mono',consolas,'Courier New',monospace\"><span style=\"color: #000000; text-decoration-color: #000000; background-color: #909090\">bot respond about capabilities                                                                                     </span>\n",
       "</pre>\n"
      ],
      "text/plain": [
       "\u001b[30;48;2;144;144;144mbot respond about capabilities                                                                                     \u001b[0m\n"
      ]
     },
     "metadata": {},
     "output_type": "display_data"
    },
    {
     "data": {
      "text/html": [
       "<pre style=\"white-space:pre;overflow-x:auto;line-height:normal;font-family:Menlo,'DejaVu Sans Mono',consolas,'Courier New',monospace\"><span style=\"color: #000000; text-decoration-color: #000000; background-color: #909090\">  \"As an AI assistant, I can help you with a wide range of tasks. This includes question answering on various </span>\n",
       "<span style=\"color: #000000; text-decoration-color: #000000; background-color: #909090\">topics, generating text for various purposes and providing suggestions based on your preferences.\"                 </span>\n",
       "</pre>\n"
      ],
      "text/plain": [
       "\u001b[30;48;2;144;144;144m  \"As an AI assistant, I can help you with a wide range of tasks. This includes question answering on various \u001b[0m\n",
       "\u001b[30;48;2;144;144;144mtopics, generating text for various purposes and providing suggestions based on your preferences.\"                 \u001b[0m\n"
      ]
     },
     "metadata": {},
     "output_type": "display_data"
    },
    {
     "data": {
      "text/html": [
       "<pre style=\"white-space:pre;overflow-x:auto;line-height:normal;font-family:Menlo,'DejaVu Sans Mono',consolas,'Courier New',monospace\"><span style=\"color: #000000; text-decoration-color: #000000; background-color: #909090\">user \"Tell me a bit about the history of NVIDIA.\"                                                                  </span>\n",
       "</pre>\n"
      ],
      "text/plain": [
       "\u001b[30;48;2;144;144;144muser \"Tell me a bit about the history of NVIDIA.\"                                                                  \u001b[0m\n"
      ]
     },
     "metadata": {},
     "output_type": "display_data"
    },
    {
     "data": {
      "text/html": [
       "<pre style=\"white-space:pre;overflow-x:auto;line-height:normal;font-family:Menlo,'DejaVu Sans Mono',consolas,'Courier New',monospace\"><span style=\"color: #000000; text-decoration-color: #000000; background-color: #909090\">  ask general question                                                                                             </span>\n",
       "</pre>\n"
      ],
      "text/plain": [
       "\u001b[30;48;2;144;144;144m  ask general question                                                                                             \u001b[0m\n"
      ]
     },
     "metadata": {},
     "output_type": "display_data"
    },
    {
     "data": {
      "text/html": [
       "<pre style=\"white-space:pre;overflow-x:auto;line-height:normal;font-family:Menlo,'DejaVu Sans Mono',consolas,'Courier New',monospace\"><span style=\"color: #000000; text-decoration-color: #000000; background-color: #909090\">bot response for general question                                                                                  </span>\n",
       "</pre>\n"
      ],
      "text/plain": [
       "\u001b[30;48;2;144;144;144mbot response for general question                                                                                  \u001b[0m\n"
      ]
     },
     "metadata": {},
     "output_type": "display_data"
    },
    {
     "data": {
      "text/html": [
       "<pre style=\"white-space:pre;overflow-x:auto;line-height:normal;font-family:Menlo,'DejaVu Sans Mono',consolas,'Courier New',monospace\"><span style=\"color: #000000; text-decoration-color: #000000; background-color: #909090\">  \"NVIDIA is a technology company that specializes in designing and manufacturing graphics processing units (GPUs) </span>\n",
       "<span style=\"color: #000000; text-decoration-color: #000000; background-color: #909090\">and other computer hardware. The company was founded in 1993 by Jen-Hsun Huang, Chris Malachowsky, and Curtis </span>\n",
       "<span style=\"color: #000000; text-decoration-color: #000000; background-color: #909090\">Priem.\"                                                                                                            </span>\n",
       "</pre>\n"
      ],
      "text/plain": [
       "\u001b[30;48;2;144;144;144m  \"NVIDIA is a technology company that specializes in designing and manufacturing graphics processing units (GPUs) \u001b[0m\n",
       "\u001b[30;48;2;144;144;144mand other computer hardware. The company was founded in 1993 by Jen-Hsun Huang, Chris Malachowsky, and Curtis \u001b[0m\n",
       "\u001b[30;48;2;144;144;144mPriem.\"                                                                                                            \u001b[0m\n"
      ]
     },
     "metadata": {},
     "output_type": "display_data"
    },
    {
     "data": {
      "text/html": [
       "<pre style=\"white-space:pre;overflow-x:auto;line-height:normal;font-family:Menlo,'DejaVu Sans Mono',consolas,'Courier New',monospace\"><span style=\"color: #000000; text-decoration-color: #000000; background-color: #909090\">user \"tell me more\"                                                                                                </span>\n",
       "</pre>\n"
      ],
      "text/plain": [
       "\u001b[30;48;2;144;144;144muser \"tell me more\"                                                                                                \u001b[0m\n"
      ]
     },
     "metadata": {},
     "output_type": "display_data"
    },
    {
     "data": {
      "text/html": [
       "<pre style=\"white-space:pre;overflow-x:auto;line-height:normal;font-family:Menlo,'DejaVu Sans Mono',consolas,'Courier New',monospace\"><span style=\"color: #000000; text-decoration-color: #000000; background-color: #909090\">  request more information                                                                                         </span>\n",
       "</pre>\n"
      ],
      "text/plain": [
       "\u001b[30;48;2;144;144;144m  request more information                                                                                         \u001b[0m\n"
      ]
     },
     "metadata": {},
     "output_type": "display_data"
    },
    {
     "data": {
      "text/html": [
       "<pre style=\"white-space:pre;overflow-x:auto;line-height:normal;font-family:Menlo,'DejaVu Sans Mono',consolas,'Courier New',monospace\"><span style=\"color: #000000; text-decoration-color: #000000; background-color: #909090\">bot provide more information                                                                                       </span>\n",
       "</pre>\n"
      ],
      "text/plain": [
       "\u001b[30;48;2;144;144;144mbot provide more information                                                                                       \u001b[0m\n"
      ]
     },
     "metadata": {},
     "output_type": "display_data"
    },
    {
     "data": {
      "text/html": [
       "<pre style=\"white-space:pre;overflow-x:auto;line-height:normal;font-family:Menlo,'DejaVu Sans Mono',consolas,'Courier New',monospace\"><span style=\"color: #000000; text-decoration-color: #000000; background-color: #909090\">  \"Initially, the company focused on developing 3D graphics processing technology for the PC gaming market. In </span>\n",
       "<span style=\"color: #000000; text-decoration-color: #000000; background-color: #909090\">1999, NVIDIA released the GeForce 256, the world's first GPU, which was a major breakthrough for the gaming </span>\n",
       "<span style=\"color: #000000; text-decoration-color: #000000; background-color: #909090\">industry. The company continued to innovate in the GPU space, releasing new products and expanding into other </span>\n",
       "<span style=\"color: #000000; text-decoration-color: #000000; background-color: #909090\">markets such as professional graphics, mobile devices, and artificial intelligence.\"                               </span>\n",
       "</pre>\n"
      ],
      "text/plain": [
       "\u001b[30;48;2;144;144;144m  \"Initially, the company focused on developing 3D graphics processing technology for the PC gaming market. In \u001b[0m\n",
       "\u001b[30;48;2;144;144;144m1999, NVIDIA released the GeForce 256, the world's first GPU, which was a major breakthrough for the gaming \u001b[0m\n",
       "\u001b[30;48;2;144;144;144mindustry. The company continued to innovate in the GPU space, releasing new products and expanding into other \u001b[0m\n",
       "\u001b[30;48;2;144;144;144mmarkets such as professional graphics, mobile devices, and artificial intelligence.\"                               \u001b[0m\n"
      ]
     },
     "metadata": {},
     "output_type": "display_data"
    },
    {
     "data": {
      "text/html": [
       "<pre style=\"white-space:pre;overflow-x:auto;line-height:normal;font-family:Menlo,'DejaVu Sans Mono',consolas,'Courier New',monospace\"><span style=\"color: #000000; text-decoration-color: #000000; background-color: #909090\">user \"thanks\"                                                                                                      </span>\n",
       "</pre>\n"
      ],
      "text/plain": [
       "\u001b[30;48;2;144;144;144muser \"thanks\"                                                                                                      \u001b[0m\n"
      ]
     },
     "metadata": {},
     "output_type": "display_data"
    },
    {
     "data": {
      "text/html": [
       "<pre style=\"white-space:pre;overflow-x:auto;line-height:normal;font-family:Menlo,'DejaVu Sans Mono',consolas,'Courier New',monospace\"><span style=\"color: #000000; text-decoration-color: #000000; background-color: #909090\">  express appreciation                                                                                             </span>\n",
       "</pre>\n"
      ],
      "text/plain": [
       "\u001b[30;48;2;144;144;144m  express appreciation                                                                                             \u001b[0m\n"
      ]
     },
     "metadata": {},
     "output_type": "display_data"
    },
    {
     "data": {
      "text/html": [
       "<pre style=\"white-space:pre;overflow-x:auto;line-height:normal;font-family:Menlo,'DejaVu Sans Mono',consolas,'Courier New',monospace\"><span style=\"color: #000000; text-decoration-color: #000000; background-color: #909090\">bot express appreciation and offer additional help                                                                 </span>\n",
       "</pre>\n"
      ],
      "text/plain": [
       "\u001b[30;48;2;144;144;144mbot express appreciation and offer additional help                                                                 \u001b[0m\n"
      ]
     },
     "metadata": {},
     "output_type": "display_data"
    },
    {
     "data": {
      "text/html": [
       "<pre style=\"white-space:pre;overflow-x:auto;line-height:normal;font-family:Menlo,'DejaVu Sans Mono',consolas,'Courier New',monospace\"><span style=\"color: #000000; text-decoration-color: #000000; background-color: #909090\">  \"You're welcome. If you have any more questions or if there's anything else I can help you with, please don't </span>\n",
       "<span style=\"color: #000000; text-decoration-color: #000000; background-color: #909090\">hesitate to ask.\"                                                                                                  </span>\n",
       "</pre>\n"
      ],
      "text/plain": [
       "\u001b[30;48;2;144;144;144m  \"You're welcome. If you have any more questions or if there's anything else I can help you with, please don't \u001b[0m\n",
       "\u001b[30;48;2;144;144;144mhesitate to ask.\"                                                                                                  \u001b[0m\n"
      ]
     },
     "metadata": {},
     "output_type": "display_data"
    },
    {
     "data": {
      "text/html": [
       "<pre style=\"white-space:pre;overflow-x:auto;line-height:normal;font-family:Menlo,'DejaVu Sans Mono',consolas,'Courier New',monospace\"><span style=\"color: #000000; text-decoration-color: #000000; background-color: #909090\">                                                                                                                   </span>\n",
       "</pre>\n"
      ],
      "text/plain": [
       "\u001b[30;48;2;144;144;144m                                                                                                                   \u001b[0m\n"
      ]
     },
     "metadata": {},
     "output_type": "display_data"
    },
    {
     "data": {
      "text/html": [
       "<pre style=\"white-space:pre;overflow-x:auto;line-height:normal;font-family:Menlo,'DejaVu Sans Mono',consolas,'Courier New',monospace\"><span style=\"color: #000000; text-decoration-color: #000000; background-color: #909090\">                                                                                                                   </span>\n",
       "</pre>\n"
      ],
      "text/plain": [
       "\u001b[30;48;2;144;144;144m                                                                                                                   \u001b[0m\n"
      ]
     },
     "metadata": {},
     "output_type": "display_data"
    },
    {
     "data": {
      "text/html": [
       "<pre style=\"white-space:pre;overflow-x:auto;line-height:normal;font-family:Menlo,'DejaVu Sans Mono',consolas,'Courier New',monospace\"><span style=\"color: #000000; text-decoration-color: #000000; background-color: #909090\"># This is how the user talks:                                                                                      </span>\n",
       "</pre>\n"
      ],
      "text/plain": [
       "\u001b[30;48;2;144;144;144m# This is how the user talks:                                                                                      \u001b[0m\n"
      ]
     },
     "metadata": {},
     "output_type": "display_data"
    },
    {
     "data": {
      "text/html": [
       "<pre style=\"white-space:pre;overflow-x:auto;line-height:normal;font-family:Menlo,'DejaVu Sans Mono',consolas,'Courier New',monospace\"><span style=\"color: #000000; text-decoration-color: #000000; background-color: #909090\">user \"What are the best tourist attractions in Paris?\"                                                             </span>\n",
       "</pre>\n"
      ],
      "text/plain": [
       "\u001b[30;48;2;144;144;144muser \"What are the best tourist attractions in Paris?\"                                                             \u001b[0m\n"
      ]
     },
     "metadata": {},
     "output_type": "display_data"
    },
    {
     "data": {
      "text/html": [
       "<pre style=\"white-space:pre;overflow-x:auto;line-height:normal;font-family:Menlo,'DejaVu Sans Mono',consolas,'Courier New',monospace\"><span style=\"color: #000000; text-decoration-color: #000000; background-color: #909090\">  ask off topic                                                                                                    </span>\n",
       "</pre>\n"
      ],
      "text/plain": [
       "\u001b[30;48;2;144;144;144m  ask off topic                                                                                                    \u001b[0m\n"
      ]
     },
     "metadata": {},
     "output_type": "display_data"
    },
    {
     "data": {
      "text/html": [
       "<pre style=\"white-space:pre;overflow-x:auto;line-height:normal;font-family:Menlo,'DejaVu Sans Mono',consolas,'Courier New',monospace\"><span style=\"color: #000000; text-decoration-color: #000000; background-color: #909090\">                                                                                                                   </span>\n",
       "</pre>\n"
      ],
      "text/plain": [
       "\u001b[30;48;2;144;144;144m                                                                                                                   \u001b[0m\n"
      ]
     },
     "metadata": {},
     "output_type": "display_data"
    },
    {
     "data": {
      "text/html": [
       "<pre style=\"white-space:pre;overflow-x:auto;line-height:normal;font-family:Menlo,'DejaVu Sans Mono',consolas,'Courier New',monospace\"><span style=\"color: #000000; text-decoration-color: #000000; background-color: #909090\">user \"What's your opinion on the latest political news?\"                                                           </span>\n",
       "</pre>\n"
      ],
      "text/plain": [
       "\u001b[30;48;2;144;144;144muser \"What's your opinion on the latest political news?\"                                                           \u001b[0m\n"
      ]
     },
     "metadata": {},
     "output_type": "display_data"
    },
    {
     "data": {
      "text/html": [
       "<pre style=\"white-space:pre;overflow-x:auto;line-height:normal;font-family:Menlo,'DejaVu Sans Mono',consolas,'Courier New',monospace\"><span style=\"color: #000000; text-decoration-color: #000000; background-color: #909090\">  ask off topic                                                                                                    </span>\n",
       "</pre>\n"
      ],
      "text/plain": [
       "\u001b[30;48;2;144;144;144m  ask off topic                                                                                                    \u001b[0m\n"
      ]
     },
     "metadata": {},
     "output_type": "display_data"
    },
    {
     "data": {
      "text/html": [
       "<pre style=\"white-space:pre;overflow-x:auto;line-height:normal;font-family:Menlo,'DejaVu Sans Mono',consolas,'Courier New',monospace\"><span style=\"color: #000000; text-decoration-color: #000000; background-color: #909090\">                                                                                                                   </span>\n",
       "</pre>\n"
      ],
      "text/plain": [
       "\u001b[30;48;2;144;144;144m                                                                                                                   \u001b[0m\n"
      ]
     },
     "metadata": {},
     "output_type": "display_data"
    },
    {
     "data": {
      "text/html": [
       "<pre style=\"white-space:pre;overflow-x:auto;line-height:normal;font-family:Menlo,'DejaVu Sans Mono',consolas,'Courier New',monospace\"><span style=\"color: #000000; text-decoration-color: #000000; background-color: #909090\">user \"How's the weather today?\"                                                                                    </span>\n",
       "</pre>\n"
      ],
      "text/plain": [
       "\u001b[30;48;2;144;144;144muser \"How's the weather today?\"                                                                                    \u001b[0m\n"
      ]
     },
     "metadata": {},
     "output_type": "display_data"
    },
    {
     "data": {
      "text/html": [
       "<pre style=\"white-space:pre;overflow-x:auto;line-height:normal;font-family:Menlo,'DejaVu Sans Mono',consolas,'Courier New',monospace\"><span style=\"color: #000000; text-decoration-color: #000000; background-color: #909090\">  ask off topic                                                                                                    </span>\n",
       "</pre>\n"
      ],
      "text/plain": [
       "\u001b[30;48;2;144;144;144m  ask off topic                                                                                                    \u001b[0m\n"
      ]
     },
     "metadata": {},
     "output_type": "display_data"
    },
    {
     "data": {
      "text/html": [
       "<pre style=\"white-space:pre;overflow-x:auto;line-height:normal;font-family:Menlo,'DejaVu Sans Mono',consolas,'Courier New',monospace\"><span style=\"color: #000000; text-decoration-color: #000000; background-color: #909090\">                                                                                                                   </span>\n",
       "</pre>\n"
      ],
      "text/plain": [
       "\u001b[30;48;2;144;144;144m                                                                                                                   \u001b[0m\n"
      ]
     },
     "metadata": {},
     "output_type": "display_data"
    },
    {
     "data": {
      "text/html": [
       "<pre style=\"white-space:pre;overflow-x:auto;line-height:normal;font-family:Menlo,'DejaVu Sans Mono',consolas,'Courier New',monospace\"><span style=\"color: #000000; text-decoration-color: #000000; background-color: #909090\">                                                                                                                   </span>\n",
       "</pre>\n"
      ],
      "text/plain": [
       "\u001b[30;48;2;144;144;144m                                                                                                                   \u001b[0m\n"
      ]
     },
     "metadata": {},
     "output_type": "display_data"
    },
    {
     "data": {
      "text/html": [
       "<pre style=\"white-space:pre;overflow-x:auto;line-height:normal;font-family:Menlo,'DejaVu Sans Mono',consolas,'Courier New',monospace\"><span style=\"color: #000000; text-decoration-color: #000000; background-color: #909090\">                                                                                                                   </span>\n",
       "</pre>\n"
      ],
      "text/plain": [
       "\u001b[30;48;2;144;144;144m                                                                                                                   \u001b[0m\n"
      ]
     },
     "metadata": {},
     "output_type": "display_data"
    },
    {
     "data": {
      "text/html": [
       "<pre style=\"white-space:pre;overflow-x:auto;line-height:normal;font-family:Menlo,'DejaVu Sans Mono',consolas,'Courier New',monospace\"><span style=\"color: #000000; text-decoration-color: #000000; background-color: #909090\"># This is the current conversation between the user and the bot:                                                   </span>\n",
       "</pre>\n"
      ],
      "text/plain": [
       "\u001b[30;48;2;144;144;144m# This is the current conversation between the user and the bot:                                                   \u001b[0m\n"
      ]
     },
     "metadata": {},
     "output_type": "display_data"
    },
    {
     "data": {
      "text/html": [
       "<pre style=\"white-space:pre;overflow-x:auto;line-height:normal;font-family:Menlo,'DejaVu Sans Mono',consolas,'Courier New',monospace\"><span style=\"color: #000000; text-decoration-color: #000000; background-color: #909090\"># Choose intent from this list: ask off topic                                                                      </span>\n",
       "</pre>\n"
      ],
      "text/plain": [
       "\u001b[30;48;2;144;144;144m# Choose intent from this list: ask off topic                                                                      \u001b[0m\n"
      ]
     },
     "metadata": {},
     "output_type": "display_data"
    },
    {
     "data": {
      "text/html": [
       "<pre style=\"white-space:pre;overflow-x:auto;line-height:normal;font-family:Menlo,'DejaVu Sans Mono',consolas,'Courier New',monospace\"><span style=\"color: #000000; text-decoration-color: #000000; background-color: #909090\">user \"Hello there!\"                                                                                                </span>\n",
       "</pre>\n"
      ],
      "text/plain": [
       "\u001b[30;48;2;144;144;144muser \"Hello there!\"                                                                                                \u001b[0m\n"
      ]
     },
     "metadata": {},
     "output_type": "display_data"
    },
    {
     "data": {
      "text/html": [
       "<pre style=\"white-space:pre;overflow-x:auto;line-height:normal;font-family:Menlo,'DejaVu Sans Mono',consolas,'Courier New',monospace\"><span style=\"color: #000000; text-decoration-color: #000000; background-color: #909090\">  express greeting                                                                                                 </span>\n",
       "</pre>\n"
      ],
      "text/plain": [
       "\u001b[30;48;2;144;144;144m  express greeting                                                                                                 \u001b[0m\n"
      ]
     },
     "metadata": {},
     "output_type": "display_data"
    },
    {
     "data": {
      "text/html": [
       "<pre style=\"white-space:pre;overflow-x:auto;line-height:normal;font-family:Menlo,'DejaVu Sans Mono',consolas,'Courier New',monospace\"><span style=\"color: #000000; text-decoration-color: #000000; background-color: #909090\">bot express greeting                                                                                               </span>\n",
       "</pre>\n"
      ],
      "text/plain": [
       "\u001b[30;48;2;144;144;144mbot express greeting                                                                                               \u001b[0m\n"
      ]
     },
     "metadata": {},
     "output_type": "display_data"
    },
    {
     "data": {
      "text/html": [
       "<pre style=\"white-space:pre;overflow-x:auto;line-height:normal;font-family:Menlo,'DejaVu Sans Mono',consolas,'Courier New',monospace\"><span style=\"color: #000000; text-decoration-color: #000000; background-color: #909090\">  \"Hello! How can I assist you today?\"                                                                             </span>\n",
       "</pre>\n"
      ],
      "text/plain": [
       "\u001b[30;48;2;144;144;144m  \"Hello! How can I assist you today?\"                                                                             \u001b[0m\n"
      ]
     },
     "metadata": {},
     "output_type": "display_data"
    },
    {
     "data": {
      "text/html": [
       "<pre style=\"white-space:pre;overflow-x:auto;line-height:normal;font-family:Menlo,'DejaVu Sans Mono',consolas,'Courier New',monospace\"><span style=\"color: #000000; text-decoration-color: #000000; background-color: #909090\">user \"What can you do for me?\"                                                                                     </span>\n",
       "</pre>\n"
      ],
      "text/plain": [
       "\u001b[30;48;2;144;144;144muser \"What can you do for me?\"                                                                                     \u001b[0m\n"
      ]
     },
     "metadata": {},
     "output_type": "display_data"
    },
    {
     "data": {
      "text/html": [
       "<pre style=\"white-space:pre;overflow-x:auto;line-height:normal;font-family:Menlo,'DejaVu Sans Mono',consolas,'Courier New',monospace\"><span style=\"color: #000000; text-decoration-color: #000000; background-color: #909090\">  ask about capabilities                                                                                           </span>\n",
       "</pre>\n"
      ],
      "text/plain": [
       "\u001b[30;48;2;144;144;144m  ask about capabilities                                                                                           \u001b[0m\n"
      ]
     },
     "metadata": {},
     "output_type": "display_data"
    },
    {
     "data": {
      "text/html": [
       "<pre style=\"white-space:pre;overflow-x:auto;line-height:normal;font-family:Menlo,'DejaVu Sans Mono',consolas,'Courier New',monospace\"><span style=\"color: #000000; text-decoration-color: #000000; background-color: #909090\">bot respond about capabilities                                                                                     </span>\n",
       "</pre>\n"
      ],
      "text/plain": [
       "\u001b[30;48;2;144;144;144mbot respond about capabilities                                                                                     \u001b[0m\n"
      ]
     },
     "metadata": {},
     "output_type": "display_data"
    },
    {
     "data": {
      "text/html": [
       "<pre style=\"white-space:pre;overflow-x:auto;line-height:normal;font-family:Menlo,'DejaVu Sans Mono',consolas,'Courier New',monospace\"><span style=\"color: #000000; text-decoration-color: #000000; background-color: #909090\">  \"As an AI assistant, I can help you with a wide range of tasks. This includes question answering on various </span>\n",
       "<span style=\"color: #000000; text-decoration-color: #000000; background-color: #909090\">topics, generating text for various purposes and providing suggestions based on your preferences.\"                 </span>\n",
       "</pre>\n"
      ],
      "text/plain": [
       "\u001b[30;48;2;144;144;144m  \"As an AI assistant, I can help you with a wide range of tasks. This includes question answering on various \u001b[0m\n",
       "\u001b[30;48;2;144;144;144mtopics, generating text for various purposes and providing suggestions based on your preferences.\"                 \u001b[0m\n"
      ]
     },
     "metadata": {},
     "output_type": "display_data"
    },
    {
     "data": {
      "text/html": [
       "<pre style=\"white-space:pre;overflow-x:auto;line-height:normal;font-family:Menlo,'DejaVu Sans Mono',consolas,'Courier New',monospace\"><span style=\"color: #000000; text-decoration-color: #000000; background-color: #909090\">user \"What's the weather today?\"                                                                                   </span>\n",
       "</pre>\n"
      ],
      "text/plain": [
       "\u001b[30;48;2;144;144;144muser \"What's the weather today?\"                                                                                   \u001b[0m\n"
      ]
     },
     "metadata": {},
     "output_type": "display_data"
    },
    {
     "data": {
      "text/html": [
       "<pre style=\"white-space:pre;overflow-x:auto;line-height:normal;font-family:Menlo,'DejaVu Sans Mono',consolas,'Courier New',monospace\"><span style=\"color: #000000; text-decoration-color: #000000; background-color: #909090\">                                                                                                                   </span>\n",
       "</pre>\n"
      ],
      "text/plain": [
       "\u001b[30;48;2;144;144;144m                                                                                                                   \u001b[0m\n"
      ]
     },
     "metadata": {},
     "output_type": "display_data"
    },
    {
     "data": {
      "text/html": [
       "<pre style=\"white-space:pre;overflow-x:auto;line-height:normal;font-family:Menlo,'DejaVu Sans Mono',consolas,'Courier New',monospace\"><span style=\"color: #000000; text-decoration-color: #000000; background-color: #006600\">  ask off topic                                                                                                    </span>\n",
       "</pre>\n"
      ],
      "text/plain": [
       "\u001b[30;48;2;0;102;0m  ask off topic                                                                                                    \u001b[0m\n"
      ]
     },
     "metadata": {},
     "output_type": "display_data"
    },
    {
     "data": {
      "text/html": [
       "<pre style=\"white-space:pre;overflow-x:auto;line-height:normal;font-family:Menlo,'DejaVu Sans Mono',consolas,'Courier New',monospace\"><span style=\"color: #000000; text-decoration-color: #000000; background-color: #006600\">bot respond to off topic                                                                                           </span>\n",
       "</pre>\n"
      ],
      "text/plain": [
       "\u001b[30;48;2;0;102;0mbot respond to off topic                                                                                           \u001b[0m\n"
      ]
     },
     "metadata": {},
     "output_type": "display_data"
    },
    {
     "data": {
      "text/html": [
       "<pre style=\"white-space:pre;overflow-x:auto;line-height:normal;font-family:Menlo,'DejaVu Sans Mono',consolas,'Courier New',monospace\"><span style=\"color: #000000; text-decoration-color: #000000; background-color: #006600\">  \"I'm sorry, I am not equipped to answer questions about the weather. Is there something else I can assist you </span>\n",
       "<span style=\"color: #000000; text-decoration-color: #000000; background-color: #006600\">with?\"                                                                                                             </span>\n",
       "</pre>\n"
      ],
      "text/plain": [
       "\u001b[30;48;2;0;102;0m  \"I'm sorry, I am not equipped to answer questions about the weather. Is there something else I can assist you \u001b[0m\n",
       "\u001b[30;48;2;0;102;0mwith?\"                                                                                                             \u001b[0m\n"
      ]
     },
     "metadata": {},
     "output_type": "display_data"
    },
    {
     "data": {
      "text/html": [
       "<pre style=\"white-space:pre;overflow-x:auto;line-height:normal;font-family:Menlo,'DejaVu Sans Mono',consolas,'Courier New',monospace\">\n",
       "</pre>\n"
      ],
      "text/plain": [
       "\n"
      ]
     },
     "metadata": {},
     "output_type": "display_data"
    },
    {
     "data": {
      "text/html": [
       "<pre style=\"white-space:pre;overflow-x:auto;line-height:normal;font-family:Menlo,'DejaVu Sans Mono',consolas,'Courier New',monospace\"><span style=\"color: #707070; text-decoration-color: #707070\">Output Stats</span> <span style=\"color: #555555; text-decoration-color: #555555\">{'token_usage': {'total_tokens': 534, 'prompt_tokens': 496, 'completion_tokens': 38}, 'model_name': </span>\n",
       "<span style=\"color: #555555; text-decoration-color: #555555\">'gpt-3.5-turbo-instruct'}</span>\n",
       "</pre>\n"
      ],
      "text/plain": [
       "\u001b[38;2;112;112;112mOutput Stats\u001b[0m \u001b[38;2;85;85;85m{'token_usage': {'total_tokens': 534, 'prompt_tokens': 496, 'completion_tokens': 38}, 'model_name': \u001b[0m\n",
       "\u001b[38;2;85;85;85m'gpt-3.5-turbo-instruct'}\u001b[0m\n"
      ]
     },
     "metadata": {},
     "output_type": "display_data"
    },
    {
     "data": {
      "text/html": [
       "<pre style=\"white-space:pre;overflow-x:auto;line-height:normal;font-family:Menlo,'DejaVu Sans Mono',consolas,'Courier New',monospace\"><span style=\"color: #555555; text-decoration-color: #555555\">LLM call took 1.09 seconds</span>\n",
       "</pre>\n"
      ],
      "text/plain": [
       "\u001b[38;2;85;85;85mLLM call took 1.09 seconds\u001b[0m\n"
      ]
     },
     "metadata": {},
     "output_type": "display_data"
    },
    {
     "data": {
      "text/html": [
       "<pre style=\"white-space:pre;overflow-x:auto;line-height:normal;font-family:Menlo,'DejaVu Sans Mono',consolas,'Courier New',monospace\"><span style=\"color: #000080; text-decoration-color: #000080\">Event</span> <span style=\"font-weight: bold\">UserIntent</span> {'uid': '8401...', 'intent': 'ask off topic'}\n",
       "</pre>\n"
      ],
      "text/plain": [
       "\u001b[34mEvent\u001b[0m \u001b[1mUserIntent\u001b[0m {'uid': '8401...', 'intent': 'ask off topic'}\n"
      ]
     },
     "metadata": {},
     "output_type": "display_data"
    },
    {
     "data": {
      "text/html": [
       "<pre style=\"white-space:pre;overflow-x:auto;line-height:normal;font-family:Menlo,'DejaVu Sans Mono',consolas,'Courier New',monospace\"><span style=\"color: #000080; text-decoration-color: #000080\">Event</span> <span style=\"font-weight: bold\">BotIntent</span> {'uid': '3807...', 'intent': 'explain cant off topic'}\n",
       "</pre>\n"
      ],
      "text/plain": [
       "\u001b[34mEvent\u001b[0m \u001b[1mBotIntent\u001b[0m {'uid': '3807...', 'intent': 'explain cant off topic'}\n"
      ]
     },
     "metadata": {},
     "output_type": "display_data"
    },
    {
     "data": {
      "text/html": [
       "<pre style=\"white-space:pre;overflow-x:auto;line-height:normal;font-family:Menlo,'DejaVu Sans Mono',consolas,'Courier New',monospace\"><span style=\"color: #000080; text-decoration-color: #000080\">Event</span> <span style=\"font-weight: bold\">StartInternalSystemAction</span> {'uid': '00e7...', 'action_name': 'retrieve_relevant_chunks', 'action_params': {}, \n",
       "'action_result_key': None, 'action_uid': '84f4...', 'is_system_action': True}\n",
       "</pre>\n"
      ],
      "text/plain": [
       "\u001b[34mEvent\u001b[0m \u001b[1mStartInternalSystemAction\u001b[0m {'uid': '00e7...', 'action_name': 'retrieve_relevant_chunks', 'action_params': {}, \n",
       "'action_result_key': None, 'action_uid': '84f4...', 'is_system_action': True}\n"
      ]
     },
     "metadata": {},
     "output_type": "display_data"
    },
    {
     "data": {
      "text/html": [
       "<pre style=\"white-space:pre;overflow-x:auto;line-height:normal;font-family:Menlo,'DejaVu Sans Mono',consolas,'Courier New',monospace\"><span style=\"color: #707070; text-decoration-color: #707070\">Executing action</span> <span style=\"color: #555555; text-decoration-color: #555555\">retrieve_relevant_chunks</span>\n",
       "</pre>\n"
      ],
      "text/plain": [
       "\u001b[38;2;112;112;112mExecuting action\u001b[0m \u001b[38;2;85;85;85mretrieve_relevant_chunks\u001b[0m\n"
      ]
     },
     "metadata": {},
     "output_type": "display_data"
    },
    {
     "data": {
      "text/html": [
       "<pre style=\"white-space:pre;overflow-x:auto;line-height:normal;font-family:Menlo,'DejaVu Sans Mono',consolas,'Courier New',monospace\"><span style=\"color: #000080; text-decoration-color: #000080\">Event</span> <span style=\"font-weight: bold\">InternalSystemActionFinished</span> {'uid': 'cd66...', 'action_uid': '84f4...', 'action_name': \n",
       "'retrieve_relevant_chunks', 'action_params': {}, 'action_result_key': None, 'status': 'success', 'is_success': \n",
       "True, 'return_value': '\\n', 'events': None, 'is_system_action': True}\n",
       "</pre>\n"
      ],
      "text/plain": [
       "\u001b[34mEvent\u001b[0m \u001b[1mInternalSystemActionFinished\u001b[0m {'uid': 'cd66...', 'action_uid': '84f4...', 'action_name': \n",
       "'retrieve_relevant_chunks', 'action_params': {}, 'action_result_key': None, 'status': 'success', 'is_success': \n",
       "True, 'return_value': '\\n', 'events': None, 'is_system_action': True}\n"
      ]
     },
     "metadata": {},
     "output_type": "display_data"
    },
    {
     "data": {
      "text/html": [
       "<pre style=\"white-space:pre;overflow-x:auto;line-height:normal;font-family:Menlo,'DejaVu Sans Mono',consolas,'Courier New',monospace\"><span style=\"color: #000080; text-decoration-color: #000080\">Event</span> <span style=\"font-weight: bold\">StartInternalSystemAction</span> {'uid': '859d...', 'action_name': 'generate_bot_message', 'action_params': {}, \n",
       "'action_result_key': None, 'action_uid': '6ed3...', 'is_system_action': True}\n",
       "</pre>\n"
      ],
      "text/plain": [
       "\u001b[34mEvent\u001b[0m \u001b[1mStartInternalSystemAction\u001b[0m {'uid': '859d...', 'action_name': 'generate_bot_message', 'action_params': {}, \n",
       "'action_result_key': None, 'action_uid': '6ed3...', 'is_system_action': True}\n"
      ]
     },
     "metadata": {},
     "output_type": "display_data"
    },
    {
     "data": {
      "text/html": [
       "<pre style=\"white-space:pre;overflow-x:auto;line-height:normal;font-family:Menlo,'DejaVu Sans Mono',consolas,'Courier New',monospace\"><span style=\"color: #707070; text-decoration-color: #707070\">Executing action</span> <span style=\"color: #555555; text-decoration-color: #555555\">generate_bot_message</span>\n",
       "</pre>\n"
      ],
      "text/plain": [
       "\u001b[38;2;112;112;112mExecuting action\u001b[0m \u001b[38;2;85;85;85mgenerate_bot_message\u001b[0m\n"
      ]
     },
     "metadata": {},
     "output_type": "display_data"
    },
    {
     "data": {
      "text/html": [
       "<pre style=\"white-space:pre;overflow-x:auto;line-height:normal;font-family:Menlo,'DejaVu Sans Mono',consolas,'Courier New',monospace\"><span style=\"color: #707070; text-decoration-color: #707070\">Phase 3</span> <span style=\"color: #555555; text-decoration-color: #555555\">Generating bot message ...</span>\n",
       "</pre>\n"
      ],
      "text/plain": [
       "\u001b[38;2;112;112;112mPhase 3\u001b[0m \u001b[38;2;85;85;85mGenerating bot message ...\u001b[0m\n"
      ]
     },
     "metadata": {},
     "output_type": "display_data"
    },
    {
     "data": {
      "text/html": [
       "<pre style=\"white-space:pre;overflow-x:auto;line-height:normal;font-family:Menlo,'DejaVu Sans Mono',consolas,'Courier New',monospace\"><span style=\"color: #000080; text-decoration-color: #000080\">Event</span> <span style=\"font-weight: bold\">BotMessage</span> {'uid': 'e247...', 'text': \"I cannot answer to your question because I'm programmed to assist only\n",
       "with movies.\"}\n",
       "</pre>\n"
      ],
      "text/plain": [
       "\u001b[34mEvent\u001b[0m \u001b[1mBotMessage\u001b[0m {'uid': 'e247...', 'text': \"I cannot answer to your question because I'm programmed to assist only\n",
       "with movies.\"}\n"
      ]
     },
     "metadata": {},
     "output_type": "display_data"
    },
    {
     "data": {
      "text/html": [
       "<pre style=\"white-space:pre;overflow-x:auto;line-height:normal;font-family:Menlo,'DejaVu Sans Mono',consolas,'Courier New',monospace\"><span style=\"color: #000080; text-decoration-color: #000080\">Event</span> <span style=\"font-weight: bold\">StartInternalSystemAction</span> {'uid': 'b695...', 'action_name': 'create_event', 'action_params': {'event': \n",
       "{'_type': 'StartUtteranceBotAction', 'script': '$bot_message'}}, 'action_result_key': None, 'action_uid': \n",
       "'633d...', 'is_system_action': True}\n",
       "</pre>\n"
      ],
      "text/plain": [
       "\u001b[34mEvent\u001b[0m \u001b[1mStartInternalSystemAction\u001b[0m {'uid': 'b695...', 'action_name': 'create_event', 'action_params': {'event': \n",
       "{'_type': 'StartUtteranceBotAction', 'script': '$bot_message'}}, 'action_result_key': None, 'action_uid': \n",
       "'633d...', 'is_system_action': True}\n"
      ]
     },
     "metadata": {},
     "output_type": "display_data"
    },
    {
     "data": {
      "text/html": [
       "<pre style=\"white-space:pre;overflow-x:auto;line-height:normal;font-family:Menlo,'DejaVu Sans Mono',consolas,'Courier New',monospace\"><span style=\"color: #707070; text-decoration-color: #707070\">Executing action</span> <span style=\"color: #555555; text-decoration-color: #555555\">create_event</span>\n",
       "</pre>\n"
      ],
      "text/plain": [
       "\u001b[38;2;112;112;112mExecuting action\u001b[0m \u001b[38;2;85;85;85mcreate_event\u001b[0m\n"
      ]
     },
     "metadata": {},
     "output_type": "display_data"
    },
    {
     "data": {
      "text/html": [
       "<pre style=\"white-space:pre;overflow-x:auto;line-height:normal;font-family:Menlo,'DejaVu Sans Mono',consolas,'Courier New',monospace\"><span style=\"color: #000080; text-decoration-color: #000080\">Event</span> <span style=\"font-weight: bold\">StartUtteranceBotAction</span> {'uid': '0f00...', 'script': \"I cannot answer to your question because I'm programmed\n",
       "to assist only with movies.\", 'action_uid': 'eda0...'}\n",
       "</pre>\n"
      ],
      "text/plain": [
       "\u001b[34mEvent\u001b[0m \u001b[1mStartUtteranceBotAction\u001b[0m {'uid': '0f00...', 'script': \"I cannot answer to your question because I'm programmed\n",
       "to assist only with movies.\", 'action_uid': 'eda0...'}\n"
      ]
     },
     "metadata": {},
     "output_type": "display_data"
    },
    {
     "data": {
      "text/html": [
       "<pre style=\"white-space:pre;overflow-x:auto;line-height:normal;font-family:Menlo,'DejaVu Sans Mono',consolas,'Courier New',monospace\"><span style=\"color: #555555; text-decoration-color: #555555\">Total processing took 1.58 seconds. LLM Stats: 1 total calls, 1.09 total time, 534 total tokens, 496 total prompt </span>\n",
       "<span style=\"color: #555555; text-decoration-color: #555555\">tokens, 38 total completion tokens, [1.09] as latencies</span>\n",
       "</pre>\n"
      ],
      "text/plain": [
       "\u001b[38;2;85;85;85mTotal processing took 1.58 seconds. LLM Stats: 1 total calls, 1.09 total time, 534 total tokens, 496 total prompt \u001b[0m\n",
       "\u001b[38;2;85;85;85mtokens, 38 total completion tokens, [1.09] as latencies\u001b[0m\n"
      ]
     },
     "metadata": {},
     "output_type": "display_data"
    }
   ],
   "source": [
    "res = await rails.generate_async(prompt=\"What's the weather today?\")\n"
   ]
  },
  {
   "cell_type": "code",
   "execution_count": 32,
   "metadata": {},
   "outputs": [
    {
     "data": {
      "text/plain": [
       "\"I cannot answer to your question because I'm programmed to assist only with movies.\""
      ]
     },
     "execution_count": 32,
     "metadata": {},
     "output_type": "execute_result"
    }
   ],
   "source": [
    "res"
   ]
  }
 ],
 "metadata": {
  "kernelspec": {
   "display_name": "movies-chatbot-cyk_sWxh-py3.10",
   "language": "python",
   "name": "python3"
  },
  "language_info": {
   "codemirror_mode": {
    "name": "ipython",
    "version": 3
   },
   "file_extension": ".py",
   "mimetype": "text/x-python",
   "name": "python",
   "nbconvert_exporter": "python",
   "pygments_lexer": "ipython3",
   "version": "3.11.0rc1"
  }
 },
 "nbformat": 4,
 "nbformat_minor": 2
}
